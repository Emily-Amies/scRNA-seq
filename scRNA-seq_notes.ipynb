{
 "cells": [
  {
   "cell_type": "markdown",
   "id": "03d3dc9a",
   "metadata": {},
   "source": [
    "# scRNA-seq notes\n",
    "\n",
    "10x PBMC data are hosted in https://s3-us-west-2.amazonaws.com/10x.files/samples/cell/pbmc3k/pbmc3k_filtered_gene_bc_matrices.tar.gz\n",
    "\n",
    "53:00 - scRNA-seq packages\n",
    "\n",
    "4.12.3 and 4.12.4 sce and scater"
   ]
  },
  {
   "cell_type": "markdown",
   "id": "5ae34b91",
   "metadata": {},
   "source": [
    "## scRNA-seq\n",
    "\n",
    "Single-cell RNA sequencing (scRNA-seq) is a great tool to allow us to see at cellular resolution that you can't get using bulk RNA-seq which only measures average expression levels across all cells. scRNA-seq can estimate the distribution of expression levels across the cells in your sample making it ideal for studying heterogenous cell populations. It also has the advantage of sampling all transcripts in your sample in an unbiased way, unlike microarrays and RT-qPCR which are limited to a limited set of transcripts. This means that scRNA-seq is great for:\n",
    "- Identifying rare cell types\n",
    "- Studying cell differentiation during development\n",
    "- Building gene atlases\n",
    "- Study changes in cell composition due to disease or environmental factors"
   ]
  },
  {
   "cell_type": "markdown",
   "id": "46dbd2d7",
   "metadata": {},
   "source": [
    "**scRNA-seq protocols**\n",
    "\n",
    "There are many scRNA-seq protocols available and the dataset sizes from these are continually growing:\n",
    "\n",
    "<img src=\"imgs/scRNA-seq_protocols.png\" width = 600>\n",
    "\n",
    "*Summary of some of the more popular scRNA-seq protocols. Chen, Teichman and Meyer, 2018. Abbreviations: cDNA, complementary DNA; DNA pol I, DNA polymerase I; FACS, fluorescence-activated cell sorting; PCR, polymerase chain reaction; RNase H, ribonuclease H; RT, reverse transcription; TSO, template-switching oligonucleotide*\n",
    "\n",
    "Protocols usually follow these steps:\n",
    "1. Cells in a solid sample are dissociated\n",
    "2. (optional: cells can be selected for using markers, fluorescent transgenes or staining dyes)\n",
    "3. They are then isolated and captured. Three methods for this are:\n",
    "    - **Microtitre-plate-based methods** - cells are put in individual wells using things like pipetting, microdissection of fluorescent activated cell sorting (FACS). This method allows you to take pictures of the cells so you can remove damage cells or wells that have more than one cell (known as doublets). FACS also lets you sort cells by things like cell size or intensity of labels and place them in specific wells to give you some more infomation for your downstream analysis. However, this method is work-intestive so is low-throughput.\n",
    "    - **Microfluidic-array-based methods** - these are efficient methods that combines cell capture with library preparation so is high-throughput. However, it only captures around 10% of cells so is not good for rare cell types or small samples. Also, the nanowells used are customised for particular sizes which can introduce some bias when studying tissues.\n",
    "    - **Microgluidic-droplet-based methods** - these are the most popular methods used today and have the highest through-put. Cells are trapped in an nanoliter-sized oil droplet with a bead. This bead has the things needed to make the library and a unique barcode that is attached to all reads from one cell. This means that sequencing can be done on all cells together.\n",
    "4. RNA is extracted\n",
    "5. Then it is reverse-transcribed into cDNA\n",
    "6. cDNA is then amplified (by *in vitro* transcription or PCR)\n",
    "7. This is then built into a sequencing library\n",
    "8. Sequencing using NGS\n",
    "9. An expression matrix can then be used for further analysis\n",
    "\n",
    "<img src=\"imgs/scRNA-seq_workflow.png\" width = 550>\n",
    "\n",
    "*scRNA-seq workflow. Taken from wikipedia https://en.wikipedia.org/wiki/Single_cell_sequencing*\n",
    "\n",
    "The protocol you choose to use will depend on study design and aims. If you want to find a rare cell populatation, you will want to sequence more cells (e.g. 10x Chromium), but if you want to study a particular known cell type, it may be better to sequence fewer cells at a higher resolution (e.g. using SMART-seq2). How many cells needed can be estimated here: https://satijalab.org/howmanycells/ and https://satijalab.org/costpercell/. As different protocols can have variations in accuracy and sensitivity (how much starting RNA is needed), you can also look at studies comparing different protocols: Ziegenhaln et al, 2017; Scensson et al, 2017, Ding et al, 2020."
   ]
  },
  {
   "cell_type": "markdown",
   "id": "3b8e4dd0",
   "metadata": {},
   "source": [
    "**Drawbacks**\n",
    "\n",
    "There are a few problems that come with scRNA-seq:\n",
    "- Low amount of RNA from cells can cause complications:\n",
    "    - **Amplification** is needed which can lead to biases in the data.\n",
    "    - **'Dropouts'** occur when some tramscripts are not captured before amplification. It means some cells this gene will appear to have no expression so data will have many zeros. The low coverage also contributes to this so the resulting matrix is said to be a sparse matrix.\n",
    "- Unlike bulk RNA-seq, it is difficult to have replicates as the libraries represent a single cell, rather than a cell population, so distinguishing technical noise and biological variability is tricky. However, two methods can be used to do this:\n",
    "    - **Spike-ins** - this allows you to normalise the data by adding in synthetic RNA molecules at a known concentration. The most commonly used are a set of 96 spikes from the External RNA Control Consortium (ERCC). But recently, droplet-based methods are more popular so spike-ins not used much anymore. \n",
    "    - **UMIs** - these unique molecular identifiers are 4-20 bp barcodes added to the 3' or 5' end of each transcript before amplification which is followed by targeted sequencing of the 3' or 5' end of the transcripts. This allows you to quantify the number of transcripts before amplification.\n",
    "- Batch effects caused by confounding variables when different samples are processed seperately\n",
    "\n",
    "<img src=\"imgs/batch_effects.png\" width = 600>\n",
    "\n",
    "*Visualisation of how batch effects affect data. Hicks et al, 2018*"
   ]
  },
  {
   "cell_type": "markdown",
   "id": "1827b3eb",
   "metadata": {},
   "source": [
    "## Processing raw scRNA-seq data: making an expression matrix"
   ]
  },
  {
   "cell_type": "markdown",
   "id": "bb2465ea",
   "metadata": {},
   "source": [
    "### Quality control\n",
    "\n",
    "The output of scRNA-seq is usually in the form of a **FastQ** file which have this format:\n",
    "\n",
    ">\\>ReadID <br>\n",
    ">CDNA READ SEQUENCE\n",
    ">    \n",
    ">+\n",
    ">\n",
    ">SEQUENCING QUALITY SCORES\n",
    "\n",
    "*Read quality*\n",
    "\n",
    "The first step after getting the FastQ file is to check the quality of the reads. Before we get this file, reads of low quality will have been removed and the data will have been normalised to account for amplification. Checking read quality can be done using a tool call FastQC which can be used for both bulk and single-cell RNA-seq data. FastQC outputs a report on the read quality using the quality scores in the FastQ file.\n",
    "\n",
    "https://www.bioinformatics.babraham.ac.uk/projects/fastqc/\n",
    "\n",
    "Run FastQC using the following command:\n",
    "\n",
    "`fastqc -o output_directory fastQ_file`\n",
    "\n",
    "This will prodyce a zip and html file for each of the paired-end reads. The report is in the html file. \n",
    "\n",
    "<img src=\"imgs/FastQC.png\" width = 600>\n",
    "\n",
    "*Quality report from FastQC. Quality is poor at the ends as a result of sequencing. Note 2 bases in the middle have poor quality scores and this will need to be acounted for. Taken from https://www.singlecellcourse.org/*"
   ]
  },
  {
   "cell_type": "markdown",
   "id": "99193fbe",
   "metadata": {},
   "source": [
    "*Trimming reads*\n",
    "\n",
    "Next, these low quality bases need to be trimmed off reads. Sequencing also tends to have sequencing adapters, low quality regions at the ends and poly-A sequences, so these can be trimmed too. This can be done using Trim Galore! which is a wrapper for the reads trimming software cutadapt. If UMIs are used, it is not necessary to trim the read with the UMI and cell barcode, just the one with the transcript. \n",
    "\n",
    "<img src=\"imgs/UMIs.png\" width = 300>\n",
    "\n",
    "*Protocols that use paired-end sequencing may have barcodes on one or both reads. When UMIs are used, one read will have the cell and UMI barcodes, while the other will contain the transcript sequence. Read 1s capture the transcript sequence, while read 2 contains the cell barcode and UMI. Adapted from https://www.singlecellcourse.org/*\n",
    "\n",
    "This can be run using the following command:\n",
    "\n",
    "`trim_galore --nextera -o output_directory FastQ_file`\n",
    "\n",
    "After this is done, another FastQC report should be made to check the read quality again."
   ]
  },
  {
   "cell_type": "markdown",
   "id": "b3926d5f",
   "metadata": {},
   "source": [
    "### Read alignment: mapping cDNA fragments to a reference\n",
    "\n",
    "The next step is to find out which genes our reads correspond to. We do this by mapping them to a reference genome. There are many tools for this. If spike-ins are used, the reference should have the spike-in sequence added first. UMIs/barcodes should also be removed, these can be added to the read name. Also, before aligning, cells should be checked to see if they have enough mappable reads (~60-70% - but it is important to compare with other cells in the sample and remove outliers). Cells with a low proportion of mappable reads could indicate contamination and should be removed. Below are two:\n",
    "\n",
    "**Traditional aligners e.g. STAR, hisat2 and TopHat** - STAR tries to find the longest possible seuence which matches the sequences in the reference genome. It is able to find regions where the read spans more than one exon making it a 'splice aware' aligner. This means it can align genomes rather than transcriptomes and be used to study alternative splicing or chromosomal rearragements. \n",
    "\n",
    "<img src=\"imgs/STAR.png\" width = 300>\n",
    "\n",
    "*STAR is able to match sequences that span a splicing junction. Dobin et al, 2013*\n",
    "\n",
    "You need to provide the reference genome (**FASTA file**) and annotations (GTF) which STAR uses to make a genome index. STAR then aligns the reads to this. Run STAR using this command:\n",
    "\n",
    "`STAR --runThreadN 4 --runMode genomeGenerate --genomeDir output_directory --genomeFastaFiles reference_fasta_file`\n",
    "\n",
    "The output is a **BAM file** which stores the mapped reads. The human-readable version is called a SAM file. It includes information like the mapping quality and the read's position. BAM files can be viewd using IGV. Sometimes sequencing methods provide BAM files only; therefore, these will need to be converted to FastQ files using bedtools/Picard to perform the QC. CRAM files are similar to BAM files but are more compressed and can be converted to BAM files using samtools. \n",
    "\n",
    "**Pseudo-aligners e.g. Kallisto or Salmon** - these map k-mers, rather than reads, to a reference genome. K-mers are sequences of k length from a read. Psuedo-alignment is much faster than alignment and may be more robust to sequencing errors as it would only affect some, but not all, of the k-mers of a read. Pseudo-aligners, unlike traditional aligners, map to a reference transcriptome, rather than a reference genome meaning they map to isoforms rather than genes. Expectation-Maximisation (EM) algorithm is then used to find the optimal distribution of reads that can be mapped to more than one transcripts. It is worth noting that these do not return BAM files, so you cannot visualise the alignment, but they do also perform the read quantification step. Aligning to a transcriptome is difficult because:\n",
    "- scRNA-seq has lower coverage than bulk RNA-seq\n",
    "- Many protocols have a 3' coverage bias, so it is hard to tell which isoform a read came from if they that differ at the 5' end.\n",
    "- Some protocols have short read lengths which also make it challenging to tell which isoform a read came from\n",
    "\n",
    "Kallisto mitigates this by assigning reads that could map to multiple isoforms to an equvilance class so downstream analyses like clusering use this instead.  \n",
    "\n",
    "*Alignment QC*\n",
    "\n",
    "After the reads have been mapped to the genome, the quality of the mapping needs to be evaluated. Tools like RSeQC can be used. As before, look at the whole dataset and remove outliers. It can be done by looking at:\n",
    "- Total number of reads per cell\n",
    "- Per cell, the proportion of:\n",
    "    - Reads mapping to rRNA/tRNA\n",
    "    - Uniquely mapping reads\n",
    "    - Reads mapping over splice juntions\n",
    "    - Unmapped reads\n",
    "- Read depth along the transcripts\n",
    "\n",
    "<img src=\"imgs/gene_coverage.png\" width = 300>\n",
    "\n",
    "*Percentage coverage of a gene body. This shows that many sequencing protocols have a 3' bias. Each line represents a cell. The lines that fall below the others will be removed in the QC step. Taken from https://www.singlecellcourse.org/*"
   ]
  },
  {
   "cell_type": "markdown",
   "id": "ef4f0b72",
   "metadata": {},
   "source": [
    "### Genome annotation: assigning reads to genes\n",
    "\n",
    "Reference genomes are usually in FASTA format. The two most popular sources of assembly files are:\n",
    "- **UCSC** e.g. hg19, hg38, mm10\n",
    "- **GRC** e.g. GRChr37, GRChr38, GRCm38\n",
    "These match e.g. hg38 = CRCh38 but differ in additional contigs and ALT loci.\n",
    "\n",
    "Genome annotation tell you when genes are and things like the exon-intron boundaries. It is usually given in either GTF or GFF3 file formats from places like RefSeq, ENSEMBL and GENCODE. Gene names start with ENSG and transcripts ENST."
   ]
  },
  {
   "cell_type": "markdown",
   "id": "d63ba982",
   "metadata": {},
   "source": [
    "### Demultiplexing: assigning reads to cells\n",
    "\n",
    "Demultiplexing tells you which read belongs to which cell by combining all the reads with the same cell barcode (and then removing the barcodes) and is done differently depending on the protocol used. The tool that can be applied to most protocols is zUMIs which can be used for most UMI-based protocols. A new method called 'cell hashing' (Stoeckius et al, 2018) increases throughput by attaching oligo tags to cells membranes which can be later demultiplexed."
   ]
  },
  {
   "cell_type": "markdown",
   "id": "e65e8907",
   "metadata": {},
   "source": [
    "### Transcript quantification: counting the number of RNA molecules\n",
    "\n",
    "Next, we need to quantify the expression level of each gene for each cell. There are two types of transcript quantification:\n",
    "- **Full-length** - these try to achieve uniform read coverage across the whole transcript. It lets you detect splice variants but can only be done by plate-based protocols and may be subject to 3' bias.\n",
    "- **Tag-based** - these only capture either the 3' or 5' ends of the trancript. This is useful when combined with UMIs which is an improvement on the full-length method as the PCR amplification step can lead to unequal representation of transctipts. The UMI can be used to adjust the transcript count to get the true trancript abundance. Having said this, as the whole transcript is not used, it can be difficult to distinguish between different isoforms. The 10x Chromium protocol uses this method.\n",
    "\n",
    "For non-UMI scRNA-seq data, tools for bulk RNA-seq can be used like HT-seq and FeatureCounts.\n",
    "\n",
    "scRNA-seq data that do include UMIs, there aren't as many unique UMI comninations as molecules per cell, so barcodes will be assigned to more than one transcript. This means that we have to use the mapping location as well as the UMI to identify molecules. You might assume that every unique UMI-transcript pair correlates to all reads from a sinlge RNA molcule, but this is not always true because:\n",
    "1. UMI sequences can change - this can be because of PCR/sequencing errors or base-pair substitotion and is more common in longer UMIs (7-10% of 10bp UMIs). Overestimation of the number of transcripts can happen if this isn't corrected. It can be detected using UMI-tools.\n",
    "2. Mapping errors/multimapping reads - this means that some UMIs are assigned to the wrong gene/transcript, usually because the transcripts are very similar, resulting in an overestimation of transcripts. It can be mitigated by remocing UMIs with few reads that prove their association with a transcript or by removing all multi-mapping reads. Mire recently, a strategy of splitting read counts can be used e.g. if a read alligns to equally well to 3 paralogous genes, then each paralog gets 1/3 count.\n",
    "3. Sometimes the same UMI can attach to different mRNA molcules from the same gene, especially when using short UMIs. This can lead to underestimation of transcripts. A collision probablity has been proposed by Grun et al, 2014.\n",
    "\n",
    "<img src=\"imgs/UMIs2.png\" width = 400>\n",
    "\n",
    "*Description of points 1-3 where UMIs may correspond to the wrong transcript. Bottom: Lack of UMIs results in transcripts from different genes having the same UMI, so mapping is needed. Adapted from https://www.singlecellcourse.org/*\n",
    "\n",
    "*Normalisation*\n",
    "\n",
    "Some downstream analyses use raw read counts, but its mostly accepted that within-sample normalisation should be done first. The most popular method is Trancripts per Million (TPM) which is calulated by `(trancript length) - (cDNA fragment size) + 1`. The results are then scaled linearly to add up to one million. This corrects for these biases:\n",
    "- Each sample is sequenced at a different depth\n",
    "- Longer genes mean more cDNA fragments"
   ]
  },
  {
   "cell_type": "markdown",
   "id": "3e6efa78",
   "metadata": {},
   "source": [
    "### 10x Chromium (Cell Ranger)\n",
    "\n",
    "Cell Ranger is the default tool for processing 10x Genomic Chromium scRNA-seq data. It follows this process:\n",
    "1. Splice-aware alignment of reads to the reference genome using STAR\n",
    "2. Annotation using GTF - marks whether a read is exonic, intronic or intergenic. Also tells you whether the reads align well to the genome.\n",
    "3. Mapping quality adjustments - if a read maps to both an exon and one (or more) non-exons, the exon will be prioritised and is given the maximum mapping quality score.\n",
    "4. Aligns exonic and intronic reads to annotated transcripts. They are also assigned as either sense or antisense. \n",
    "5. Reads that are transcriptomic and are not multimapping are used for UMI counting (intronic reads can be included for experiments using nuclei as many of the RNAs will not have been spliced).~"
   ]
  },
  {
   "cell_type": "markdown",
   "id": "59b9aa65",
   "metadata": {},
   "source": [
    "## scRNA-seq analysis in R using Bioconductor\n",
    "\n",
    "Once the above steps have been completed, it is time to import the data into R. Data usually starts in the form of a matrix of counts (reads or UMIs) of features in samples, where features could be genes, isoforms or exons. A collection of packages, known as Bioconductor, can then be used to analyse your data. These packages have standardardised so packages can be combined within pipelines. One example of this is the standard data object is the `SingleCellExperiment` (SCE) class which stores information about a scRNA-seq experiment, like genome location etc. \n",
    "\n",
    "<img src=\"imgs/sce.png\" width = 500>\n",
    "\n",
    "*Structure of the SingleCellExperiment object. Information about genes are stored in rows and can be obtained using the `rowData` function, while information about cells are stored in columns and can be accessed using the `colData` function. Taken from https://www.singlecellcourse.org/*\n",
    "\n",
    "More on this can be found here: https://bioconductor.org/books/release/OSCA/\n",
    "\n",
    "\n",
    "In this section, data from Tung et al, 2017 (file named: GSE77288_molecules-raw-single-per-sample.txt.gz) will be used to demonstrate. These data are from an experiment using induced pluripotent stem cells from three individuals. It was carried out with the Fluidigm C1 plateform and used both UMIs and ERCC spike-ins for quanification. "
   ]
  },
  {
   "cell_type": "markdown",
   "id": "f2da614c",
   "metadata": {},
   "source": [
    "**Read in data**"
   ]
  },
  {
   "cell_type": "code",
   "execution_count": 1,
   "id": "57fd3703",
   "metadata": {},
   "outputs": [],
   "source": [
    "# Read the counts dataset\n",
    "\n",
    "tung_counts <- read.table('datasets/tung/counts.txt', sep = '\\t')"
   ]
  },
  {
   "cell_type": "code",
   "execution_count": 2,
   "id": "1e1d9c7f",
   "metadata": {
    "scrolled": true
   },
   "outputs": [
    {
     "data": {
      "text/html": [
       "<table class=\"dataframe\">\n",
       "<caption>A data.frame: 6 × 864</caption>\n",
       "<thead>\n",
       "\t<tr><th></th><th scope=col>NA19098.r1.A01</th><th scope=col>NA19098.r1.A02</th><th scope=col>NA19098.r1.A03</th><th scope=col>NA19098.r1.A04</th><th scope=col>NA19098.r1.A05</th><th scope=col>NA19098.r1.A06</th><th scope=col>NA19098.r1.A07</th><th scope=col>NA19098.r1.A08</th><th scope=col>NA19098.r1.A09</th><th scope=col>NA19098.r1.A10</th><th scope=col>⋯</th><th scope=col>NA19239.r3.H03</th><th scope=col>NA19239.r3.H04</th><th scope=col>NA19239.r3.H05</th><th scope=col>NA19239.r3.H06</th><th scope=col>NA19239.r3.H07</th><th scope=col>NA19239.r3.H08</th><th scope=col>NA19239.r3.H09</th><th scope=col>NA19239.r3.H10</th><th scope=col>NA19239.r3.H11</th><th scope=col>NA19239.r3.H12</th></tr>\n",
       "\t<tr><th></th><th scope=col>&lt;int&gt;</th><th scope=col>&lt;int&gt;</th><th scope=col>&lt;int&gt;</th><th scope=col>&lt;int&gt;</th><th scope=col>&lt;int&gt;</th><th scope=col>&lt;int&gt;</th><th scope=col>&lt;int&gt;</th><th scope=col>&lt;int&gt;</th><th scope=col>&lt;int&gt;</th><th scope=col>&lt;int&gt;</th><th scope=col>⋯</th><th scope=col>&lt;int&gt;</th><th scope=col>&lt;int&gt;</th><th scope=col>&lt;int&gt;</th><th scope=col>&lt;int&gt;</th><th scope=col>&lt;int&gt;</th><th scope=col>&lt;int&gt;</th><th scope=col>&lt;int&gt;</th><th scope=col>&lt;int&gt;</th><th scope=col>&lt;int&gt;</th><th scope=col>&lt;int&gt;</th></tr>\n",
       "</thead>\n",
       "<tbody>\n",
       "\t<tr><th scope=row>ENSG00000186092</th><td>0</td><td>0</td><td>0</td><td>0</td><td>0</td><td>0</td><td>0</td><td>0</td><td>0</td><td>0</td><td>⋯</td><td>0</td><td>0</td><td>0</td><td>0</td><td>0</td><td>0</td><td>0</td><td>0</td><td>0</td><td>0</td></tr>\n",
       "\t<tr><th scope=row>ENSG00000237683</th><td>0</td><td>0</td><td>0</td><td>1</td><td>0</td><td>0</td><td>0</td><td>0</td><td>0</td><td>0</td><td>⋯</td><td>0</td><td>1</td><td>0</td><td>0</td><td>0</td><td>0</td><td>0</td><td>0</td><td>0</td><td>0</td></tr>\n",
       "\t<tr><th scope=row>ENSG00000235249</th><td>0</td><td>0</td><td>0</td><td>0</td><td>0</td><td>0</td><td>0</td><td>0</td><td>0</td><td>0</td><td>⋯</td><td>0</td><td>0</td><td>0</td><td>0</td><td>0</td><td>0</td><td>0</td><td>0</td><td>0</td><td>0</td></tr>\n",
       "\t<tr><th scope=row>ENSG00000185097</th><td>0</td><td>0</td><td>0</td><td>0</td><td>0</td><td>0</td><td>0</td><td>0</td><td>0</td><td>0</td><td>⋯</td><td>0</td><td>0</td><td>0</td><td>0</td><td>0</td><td>0</td><td>0</td><td>0</td><td>0</td><td>0</td></tr>\n",
       "\t<tr><th scope=row>ENSG00000269831</th><td>0</td><td>0</td><td>0</td><td>0</td><td>0</td><td>0</td><td>0</td><td>0</td><td>0</td><td>0</td><td>⋯</td><td>0</td><td>0</td><td>0</td><td>0</td><td>0</td><td>0</td><td>0</td><td>0</td><td>0</td><td>0</td></tr>\n",
       "\t<tr><th scope=row>ENSG00000269308</th><td>0</td><td>0</td><td>0</td><td>0</td><td>0</td><td>0</td><td>0</td><td>0</td><td>0</td><td>0</td><td>⋯</td><td>0</td><td>0</td><td>0</td><td>0</td><td>0</td><td>0</td><td>0</td><td>0</td><td>0</td><td>0</td></tr>\n",
       "</tbody>\n",
       "</table>\n"
      ],
      "text/latex": [
       "A data.frame: 6 × 864\n",
       "\\begin{tabular}{r|lllllllllllllllllllll}\n",
       "  & NA19098.r1.A01 & NA19098.r1.A02 & NA19098.r1.A03 & NA19098.r1.A04 & NA19098.r1.A05 & NA19098.r1.A06 & NA19098.r1.A07 & NA19098.r1.A08 & NA19098.r1.A09 & NA19098.r1.A10 & ⋯ & NA19239.r3.H03 & NA19239.r3.H04 & NA19239.r3.H05 & NA19239.r3.H06 & NA19239.r3.H07 & NA19239.r3.H08 & NA19239.r3.H09 & NA19239.r3.H10 & NA19239.r3.H11 & NA19239.r3.H12\\\\\n",
       "  & <int> & <int> & <int> & <int> & <int> & <int> & <int> & <int> & <int> & <int> & ⋯ & <int> & <int> & <int> & <int> & <int> & <int> & <int> & <int> & <int> & <int>\\\\\n",
       "\\hline\n",
       "\tENSG00000186092 & 0 & 0 & 0 & 0 & 0 & 0 & 0 & 0 & 0 & 0 & ⋯ & 0 & 0 & 0 & 0 & 0 & 0 & 0 & 0 & 0 & 0\\\\\n",
       "\tENSG00000237683 & 0 & 0 & 0 & 1 & 0 & 0 & 0 & 0 & 0 & 0 & ⋯ & 0 & 1 & 0 & 0 & 0 & 0 & 0 & 0 & 0 & 0\\\\\n",
       "\tENSG00000235249 & 0 & 0 & 0 & 0 & 0 & 0 & 0 & 0 & 0 & 0 & ⋯ & 0 & 0 & 0 & 0 & 0 & 0 & 0 & 0 & 0 & 0\\\\\n",
       "\tENSG00000185097 & 0 & 0 & 0 & 0 & 0 & 0 & 0 & 0 & 0 & 0 & ⋯ & 0 & 0 & 0 & 0 & 0 & 0 & 0 & 0 & 0 & 0\\\\\n",
       "\tENSG00000269831 & 0 & 0 & 0 & 0 & 0 & 0 & 0 & 0 & 0 & 0 & ⋯ & 0 & 0 & 0 & 0 & 0 & 0 & 0 & 0 & 0 & 0\\\\\n",
       "\tENSG00000269308 & 0 & 0 & 0 & 0 & 0 & 0 & 0 & 0 & 0 & 0 & ⋯ & 0 & 0 & 0 & 0 & 0 & 0 & 0 & 0 & 0 & 0\\\\\n",
       "\\end{tabular}\n"
      ],
      "text/markdown": [
       "\n",
       "A data.frame: 6 × 864\n",
       "\n",
       "| <!--/--> | NA19098.r1.A01 &lt;int&gt; | NA19098.r1.A02 &lt;int&gt; | NA19098.r1.A03 &lt;int&gt; | NA19098.r1.A04 &lt;int&gt; | NA19098.r1.A05 &lt;int&gt; | NA19098.r1.A06 &lt;int&gt; | NA19098.r1.A07 &lt;int&gt; | NA19098.r1.A08 &lt;int&gt; | NA19098.r1.A09 &lt;int&gt; | NA19098.r1.A10 &lt;int&gt; | ⋯ ⋯ | NA19239.r3.H03 &lt;int&gt; | NA19239.r3.H04 &lt;int&gt; | NA19239.r3.H05 &lt;int&gt; | NA19239.r3.H06 &lt;int&gt; | NA19239.r3.H07 &lt;int&gt; | NA19239.r3.H08 &lt;int&gt; | NA19239.r3.H09 &lt;int&gt; | NA19239.r3.H10 &lt;int&gt; | NA19239.r3.H11 &lt;int&gt; | NA19239.r3.H12 &lt;int&gt; |\n",
       "|---|---|---|---|---|---|---|---|---|---|---|---|---|---|---|---|---|---|---|---|---|---|\n",
       "| ENSG00000186092 | 0 | 0 | 0 | 0 | 0 | 0 | 0 | 0 | 0 | 0 | ⋯ | 0 | 0 | 0 | 0 | 0 | 0 | 0 | 0 | 0 | 0 |\n",
       "| ENSG00000237683 | 0 | 0 | 0 | 1 | 0 | 0 | 0 | 0 | 0 | 0 | ⋯ | 0 | 1 | 0 | 0 | 0 | 0 | 0 | 0 | 0 | 0 |\n",
       "| ENSG00000235249 | 0 | 0 | 0 | 0 | 0 | 0 | 0 | 0 | 0 | 0 | ⋯ | 0 | 0 | 0 | 0 | 0 | 0 | 0 | 0 | 0 | 0 |\n",
       "| ENSG00000185097 | 0 | 0 | 0 | 0 | 0 | 0 | 0 | 0 | 0 | 0 | ⋯ | 0 | 0 | 0 | 0 | 0 | 0 | 0 | 0 | 0 | 0 |\n",
       "| ENSG00000269831 | 0 | 0 | 0 | 0 | 0 | 0 | 0 | 0 | 0 | 0 | ⋯ | 0 | 0 | 0 | 0 | 0 | 0 | 0 | 0 | 0 | 0 |\n",
       "| ENSG00000269308 | 0 | 0 | 0 | 0 | 0 | 0 | 0 | 0 | 0 | 0 | ⋯ | 0 | 0 | 0 | 0 | 0 | 0 | 0 | 0 | 0 | 0 |\n",
       "\n"
      ],
      "text/plain": [
       "                NA19098.r1.A01 NA19098.r1.A02 NA19098.r1.A03 NA19098.r1.A04\n",
       "ENSG00000186092 0              0              0              0             \n",
       "ENSG00000237683 0              0              0              1             \n",
       "ENSG00000235249 0              0              0              0             \n",
       "ENSG00000185097 0              0              0              0             \n",
       "ENSG00000269831 0              0              0              0             \n",
       "ENSG00000269308 0              0              0              0             \n",
       "                NA19098.r1.A05 NA19098.r1.A06 NA19098.r1.A07 NA19098.r1.A08\n",
       "ENSG00000186092 0              0              0              0             \n",
       "ENSG00000237683 0              0              0              0             \n",
       "ENSG00000235249 0              0              0              0             \n",
       "ENSG00000185097 0              0              0              0             \n",
       "ENSG00000269831 0              0              0              0             \n",
       "ENSG00000269308 0              0              0              0             \n",
       "                NA19098.r1.A09 NA19098.r1.A10 <U+22EF>        NA19239.r3.H03\n",
       "ENSG00000186092 0              0              <U+22EF> 0             \n",
       "ENSG00000237683 0              0              <U+22EF> 0             \n",
       "ENSG00000235249 0              0              <U+22EF> 0             \n",
       "ENSG00000185097 0              0              <U+22EF> 0             \n",
       "ENSG00000269831 0              0              <U+22EF> 0             \n",
       "ENSG00000269308 0              0              <U+22EF> 0             \n",
       "                NA19239.r3.H04 NA19239.r3.H05 NA19239.r3.H06 NA19239.r3.H07\n",
       "ENSG00000186092 0              0              0              0             \n",
       "ENSG00000237683 1              0              0              0             \n",
       "ENSG00000235249 0              0              0              0             \n",
       "ENSG00000185097 0              0              0              0             \n",
       "ENSG00000269831 0              0              0              0             \n",
       "ENSG00000269308 0              0              0              0             \n",
       "                NA19239.r3.H08 NA19239.r3.H09 NA19239.r3.H10 NA19239.r3.H11\n",
       "ENSG00000186092 0              0              0              0             \n",
       "ENSG00000237683 0              0              0              0             \n",
       "ENSG00000235249 0              0              0              0             \n",
       "ENSG00000185097 0              0              0              0             \n",
       "ENSG00000269831 0              0              0              0             \n",
       "ENSG00000269308 0              0              0              0             \n",
       "                NA19239.r3.H12\n",
       "ENSG00000186092 0             \n",
       "ENSG00000237683 0             \n",
       "ENSG00000235249 0             \n",
       "ENSG00000185097 0             \n",
       "ENSG00000269831 0             \n",
       "ENSG00000269308 0             "
      ]
     },
     "metadata": {},
     "output_type": "display_data"
    }
   ],
   "source": [
    "# Rows are genes and columns are individual.replicate.well\n",
    "\n",
    "head(tung_counts)"
   ]
  },
  {
   "cell_type": "code",
   "execution_count": 3,
   "id": "c40dd32e",
   "metadata": {},
   "outputs": [],
   "source": [
    "# Read in colData\n",
    "\n",
    "tung_annotation <- read.table('datasets/tung/annotation.txt', sep = '\\t')"
   ]
  },
  {
   "cell_type": "code",
   "execution_count": 4,
   "id": "519f5024",
   "metadata": {},
   "outputs": [
    {
     "data": {
      "text/html": [
       "<table class=\"dataframe\">\n",
       "<caption>A data.frame: 6 × 5</caption>\n",
       "<thead>\n",
       "\t<tr><th></th><th scope=col>individual</th><th scope=col>replicate</th><th scope=col>well</th><th scope=col>batch</th><th scope=col>sample_id</th></tr>\n",
       "\t<tr><th></th><th scope=col>&lt;chr&gt;</th><th scope=col>&lt;chr&gt;</th><th scope=col>&lt;chr&gt;</th><th scope=col>&lt;chr&gt;</th><th scope=col>&lt;chr&gt;</th></tr>\n",
       "</thead>\n",
       "<tbody>\n",
       "\t<tr><th scope=row>NA19098.r1.A01</th><td>NA19098</td><td>r1</td><td>A01</td><td>NA19098.r1</td><td>NA19098.r1.A01</td></tr>\n",
       "\t<tr><th scope=row>NA19098.r1.A02</th><td>NA19098</td><td>r1</td><td>A02</td><td>NA19098.r1</td><td>NA19098.r1.A02</td></tr>\n",
       "\t<tr><th scope=row>NA19098.r1.A03</th><td>NA19098</td><td>r1</td><td>A03</td><td>NA19098.r1</td><td>NA19098.r1.A03</td></tr>\n",
       "\t<tr><th scope=row>NA19098.r1.A04</th><td>NA19098</td><td>r1</td><td>A04</td><td>NA19098.r1</td><td>NA19098.r1.A04</td></tr>\n",
       "\t<tr><th scope=row>NA19098.r1.A05</th><td>NA19098</td><td>r1</td><td>A05</td><td>NA19098.r1</td><td>NA19098.r1.A05</td></tr>\n",
       "\t<tr><th scope=row>NA19098.r1.A06</th><td>NA19098</td><td>r1</td><td>A06</td><td>NA19098.r1</td><td>NA19098.r1.A06</td></tr>\n",
       "</tbody>\n",
       "</table>\n"
      ],
      "text/latex": [
       "A data.frame: 6 × 5\n",
       "\\begin{tabular}{r|lllll}\n",
       "  & individual & replicate & well & batch & sample\\_id\\\\\n",
       "  & <chr> & <chr> & <chr> & <chr> & <chr>\\\\\n",
       "\\hline\n",
       "\tNA19098.r1.A01 & NA19098 & r1 & A01 & NA19098.r1 & NA19098.r1.A01\\\\\n",
       "\tNA19098.r1.A02 & NA19098 & r1 & A02 & NA19098.r1 & NA19098.r1.A02\\\\\n",
       "\tNA19098.r1.A03 & NA19098 & r1 & A03 & NA19098.r1 & NA19098.r1.A03\\\\\n",
       "\tNA19098.r1.A04 & NA19098 & r1 & A04 & NA19098.r1 & NA19098.r1.A04\\\\\n",
       "\tNA19098.r1.A05 & NA19098 & r1 & A05 & NA19098.r1 & NA19098.r1.A05\\\\\n",
       "\tNA19098.r1.A06 & NA19098 & r1 & A06 & NA19098.r1 & NA19098.r1.A06\\\\\n",
       "\\end{tabular}\n"
      ],
      "text/markdown": [
       "\n",
       "A data.frame: 6 × 5\n",
       "\n",
       "| <!--/--> | individual &lt;chr&gt; | replicate &lt;chr&gt; | well &lt;chr&gt; | batch &lt;chr&gt; | sample_id &lt;chr&gt; |\n",
       "|---|---|---|---|---|---|\n",
       "| NA19098.r1.A01 | NA19098 | r1 | A01 | NA19098.r1 | NA19098.r1.A01 |\n",
       "| NA19098.r1.A02 | NA19098 | r1 | A02 | NA19098.r1 | NA19098.r1.A02 |\n",
       "| NA19098.r1.A03 | NA19098 | r1 | A03 | NA19098.r1 | NA19098.r1.A03 |\n",
       "| NA19098.r1.A04 | NA19098 | r1 | A04 | NA19098.r1 | NA19098.r1.A04 |\n",
       "| NA19098.r1.A05 | NA19098 | r1 | A05 | NA19098.r1 | NA19098.r1.A05 |\n",
       "| NA19098.r1.A06 | NA19098 | r1 | A06 | NA19098.r1 | NA19098.r1.A06 |\n",
       "\n"
      ],
      "text/plain": [
       "               individual replicate well batch      sample_id     \n",
       "NA19098.r1.A01 NA19098    r1        A01  NA19098.r1 NA19098.r1.A01\n",
       "NA19098.r1.A02 NA19098    r1        A02  NA19098.r1 NA19098.r1.A02\n",
       "NA19098.r1.A03 NA19098    r1        A03  NA19098.r1 NA19098.r1.A03\n",
       "NA19098.r1.A04 NA19098    r1        A04  NA19098.r1 NA19098.r1.A04\n",
       "NA19098.r1.A05 NA19098    r1        A05  NA19098.r1 NA19098.r1.A05\n",
       "NA19098.r1.A06 NA19098    r1        A06  NA19098.r1 NA19098.r1.A06"
      ]
     },
     "metadata": {},
     "output_type": "display_data"
    }
   ],
   "source": [
    "# Annotations - row names are the col names of the count matrix\n",
    "\n",
    "head(tung_annotation)"
   ]
  },
  {
   "cell_type": "code",
   "execution_count": 5,
   "id": "c3cd19bb",
   "metadata": {},
   "outputs": [],
   "source": [
    "# Load the library\n",
    "\n",
    "suppressMessages(library(SingleCellExperiment))"
   ]
  },
  {
   "cell_type": "code",
   "execution_count": 6,
   "id": "6d0707f7",
   "metadata": {},
   "outputs": [],
   "source": [
    "# Create the SCE object\n",
    "\n",
    "annotation <- c('individual', 'replicate', 'well')\n",
    "\n",
    "tung <- SingleCellExperiment(\n",
    "  assays = list(counts = as.matrix(tung_counts)), # the data must be a matrix\n",
    "  colData = tung_annotation\n",
    ")"
   ]
  },
  {
   "cell_type": "markdown",
   "id": "731602d6",
   "metadata": {},
   "source": [
    "**Naming assays**\n",
    "\n",
    "Here are some convensions on naming assays:\n",
    "- `counts` - Raw count data e.g. number of reads or transcripts for a gene\n",
    "- `normcounts` - Normalised counts\n",
    "- `logcounts` - Log-transformed counts\n",
    "- `cpm` - (counts per million) read count for a gene / library size in millions\n",
    "- `tpm` - (transcpripts per million) trancripts / total transcripts in millions\n",
    "\n",
    "Each of these has a function:"
   ]
  },
  {
   "cell_type": "markdown",
   "id": "fb04808d",
   "metadata": {},
   "source": [
    "**Inspecting sce objects**"
   ]
  },
  {
   "cell_type": "code",
   "execution_count": 7,
   "id": "d9e1c5cf",
   "metadata": {},
   "outputs": [
    {
     "data": {
      "text/html": [
       "<table class=\"dataframe\">\n",
       "<caption>A matrix: 6 × 864 of type int</caption>\n",
       "<thead>\n",
       "\t<tr><th></th><th scope=col>NA19098.r1.A01</th><th scope=col>NA19098.r1.A02</th><th scope=col>NA19098.r1.A03</th><th scope=col>NA19098.r1.A04</th><th scope=col>NA19098.r1.A05</th><th scope=col>NA19098.r1.A06</th><th scope=col>NA19098.r1.A07</th><th scope=col>NA19098.r1.A08</th><th scope=col>NA19098.r1.A09</th><th scope=col>NA19098.r1.A10</th><th scope=col>⋯</th><th scope=col>NA19239.r3.H03</th><th scope=col>NA19239.r3.H04</th><th scope=col>NA19239.r3.H05</th><th scope=col>NA19239.r3.H06</th><th scope=col>NA19239.r3.H07</th><th scope=col>NA19239.r3.H08</th><th scope=col>NA19239.r3.H09</th><th scope=col>NA19239.r3.H10</th><th scope=col>NA19239.r3.H11</th><th scope=col>NA19239.r3.H12</th></tr>\n",
       "</thead>\n",
       "<tbody>\n",
       "\t<tr><th scope=row>ENSG00000186092</th><td>0</td><td>0</td><td>0</td><td>0</td><td>0</td><td>0</td><td>0</td><td>0</td><td>0</td><td>0</td><td>⋯</td><td>0</td><td>0</td><td>0</td><td>0</td><td>0</td><td>0</td><td>0</td><td>0</td><td>0</td><td>0</td></tr>\n",
       "\t<tr><th scope=row>ENSG00000237683</th><td>0</td><td>0</td><td>0</td><td>1</td><td>0</td><td>0</td><td>0</td><td>0</td><td>0</td><td>0</td><td>⋯</td><td>0</td><td>1</td><td>0</td><td>0</td><td>0</td><td>0</td><td>0</td><td>0</td><td>0</td><td>0</td></tr>\n",
       "\t<tr><th scope=row>ENSG00000235249</th><td>0</td><td>0</td><td>0</td><td>0</td><td>0</td><td>0</td><td>0</td><td>0</td><td>0</td><td>0</td><td>⋯</td><td>0</td><td>0</td><td>0</td><td>0</td><td>0</td><td>0</td><td>0</td><td>0</td><td>0</td><td>0</td></tr>\n",
       "\t<tr><th scope=row>ENSG00000185097</th><td>0</td><td>0</td><td>0</td><td>0</td><td>0</td><td>0</td><td>0</td><td>0</td><td>0</td><td>0</td><td>⋯</td><td>0</td><td>0</td><td>0</td><td>0</td><td>0</td><td>0</td><td>0</td><td>0</td><td>0</td><td>0</td></tr>\n",
       "\t<tr><th scope=row>ENSG00000269831</th><td>0</td><td>0</td><td>0</td><td>0</td><td>0</td><td>0</td><td>0</td><td>0</td><td>0</td><td>0</td><td>⋯</td><td>0</td><td>0</td><td>0</td><td>0</td><td>0</td><td>0</td><td>0</td><td>0</td><td>0</td><td>0</td></tr>\n",
       "\t<tr><th scope=row>ENSG00000269308</th><td>0</td><td>0</td><td>0</td><td>0</td><td>0</td><td>0</td><td>0</td><td>0</td><td>0</td><td>0</td><td>⋯</td><td>0</td><td>0</td><td>0</td><td>0</td><td>0</td><td>0</td><td>0</td><td>0</td><td>0</td><td>0</td></tr>\n",
       "</tbody>\n",
       "</table>\n"
      ],
      "text/latex": [
       "A matrix: 6 × 864 of type int\n",
       "\\begin{tabular}{r|lllllllllllllllllllll}\n",
       "  & NA19098.r1.A01 & NA19098.r1.A02 & NA19098.r1.A03 & NA19098.r1.A04 & NA19098.r1.A05 & NA19098.r1.A06 & NA19098.r1.A07 & NA19098.r1.A08 & NA19098.r1.A09 & NA19098.r1.A10 & ⋯ & NA19239.r3.H03 & NA19239.r3.H04 & NA19239.r3.H05 & NA19239.r3.H06 & NA19239.r3.H07 & NA19239.r3.H08 & NA19239.r3.H09 & NA19239.r3.H10 & NA19239.r3.H11 & NA19239.r3.H12\\\\\n",
       "\\hline\n",
       "\tENSG00000186092 & 0 & 0 & 0 & 0 & 0 & 0 & 0 & 0 & 0 & 0 & ⋯ & 0 & 0 & 0 & 0 & 0 & 0 & 0 & 0 & 0 & 0\\\\\n",
       "\tENSG00000237683 & 0 & 0 & 0 & 1 & 0 & 0 & 0 & 0 & 0 & 0 & ⋯ & 0 & 1 & 0 & 0 & 0 & 0 & 0 & 0 & 0 & 0\\\\\n",
       "\tENSG00000235249 & 0 & 0 & 0 & 0 & 0 & 0 & 0 & 0 & 0 & 0 & ⋯ & 0 & 0 & 0 & 0 & 0 & 0 & 0 & 0 & 0 & 0\\\\\n",
       "\tENSG00000185097 & 0 & 0 & 0 & 0 & 0 & 0 & 0 & 0 & 0 & 0 & ⋯ & 0 & 0 & 0 & 0 & 0 & 0 & 0 & 0 & 0 & 0\\\\\n",
       "\tENSG00000269831 & 0 & 0 & 0 & 0 & 0 & 0 & 0 & 0 & 0 & 0 & ⋯ & 0 & 0 & 0 & 0 & 0 & 0 & 0 & 0 & 0 & 0\\\\\n",
       "\tENSG00000269308 & 0 & 0 & 0 & 0 & 0 & 0 & 0 & 0 & 0 & 0 & ⋯ & 0 & 0 & 0 & 0 & 0 & 0 & 0 & 0 & 0 & 0\\\\\n",
       "\\end{tabular}\n"
      ],
      "text/markdown": [
       "\n",
       "A matrix: 6 × 864 of type int\n",
       "\n",
       "| <!--/--> | NA19098.r1.A01 | NA19098.r1.A02 | NA19098.r1.A03 | NA19098.r1.A04 | NA19098.r1.A05 | NA19098.r1.A06 | NA19098.r1.A07 | NA19098.r1.A08 | NA19098.r1.A09 | NA19098.r1.A10 | ⋯ | NA19239.r3.H03 | NA19239.r3.H04 | NA19239.r3.H05 | NA19239.r3.H06 | NA19239.r3.H07 | NA19239.r3.H08 | NA19239.r3.H09 | NA19239.r3.H10 | NA19239.r3.H11 | NA19239.r3.H12 |\n",
       "|---|---|---|---|---|---|---|---|---|---|---|---|---|---|---|---|---|---|---|---|---|---|\n",
       "| ENSG00000186092 | 0 | 0 | 0 | 0 | 0 | 0 | 0 | 0 | 0 | 0 | ⋯ | 0 | 0 | 0 | 0 | 0 | 0 | 0 | 0 | 0 | 0 |\n",
       "| ENSG00000237683 | 0 | 0 | 0 | 1 | 0 | 0 | 0 | 0 | 0 | 0 | ⋯ | 0 | 1 | 0 | 0 | 0 | 0 | 0 | 0 | 0 | 0 |\n",
       "| ENSG00000235249 | 0 | 0 | 0 | 0 | 0 | 0 | 0 | 0 | 0 | 0 | ⋯ | 0 | 0 | 0 | 0 | 0 | 0 | 0 | 0 | 0 | 0 |\n",
       "| ENSG00000185097 | 0 | 0 | 0 | 0 | 0 | 0 | 0 | 0 | 0 | 0 | ⋯ | 0 | 0 | 0 | 0 | 0 | 0 | 0 | 0 | 0 | 0 |\n",
       "| ENSG00000269831 | 0 | 0 | 0 | 0 | 0 | 0 | 0 | 0 | 0 | 0 | ⋯ | 0 | 0 | 0 | 0 | 0 | 0 | 0 | 0 | 0 | 0 |\n",
       "| ENSG00000269308 | 0 | 0 | 0 | 0 | 0 | 0 | 0 | 0 | 0 | 0 | ⋯ | 0 | 0 | 0 | 0 | 0 | 0 | 0 | 0 | 0 | 0 |\n",
       "\n"
      ],
      "text/plain": [
       "                NA19098.r1.A01 NA19098.r1.A02 NA19098.r1.A03 NA19098.r1.A04\n",
       "ENSG00000186092 0              0              0              0             \n",
       "ENSG00000237683 0              0              0              1             \n",
       "ENSG00000235249 0              0              0              0             \n",
       "ENSG00000185097 0              0              0              0             \n",
       "ENSG00000269831 0              0              0              0             \n",
       "ENSG00000269308 0              0              0              0             \n",
       "                NA19098.r1.A05 NA19098.r1.A06 NA19098.r1.A07 NA19098.r1.A08\n",
       "ENSG00000186092 0              0              0              0             \n",
       "ENSG00000237683 0              0              0              0             \n",
       "ENSG00000235249 0              0              0              0             \n",
       "ENSG00000185097 0              0              0              0             \n",
       "ENSG00000269831 0              0              0              0             \n",
       "ENSG00000269308 0              0              0              0             \n",
       "                NA19098.r1.A09 NA19098.r1.A10 <U+22EF>        NA19239.r3.H03\n",
       "ENSG00000186092 0              0              <U+22EF> 0             \n",
       "ENSG00000237683 0              0              <U+22EF> 0             \n",
       "ENSG00000235249 0              0              <U+22EF> 0             \n",
       "ENSG00000185097 0              0              <U+22EF> 0             \n",
       "ENSG00000269831 0              0              <U+22EF> 0             \n",
       "ENSG00000269308 0              0              <U+22EF> 0             \n",
       "                NA19239.r3.H04 NA19239.r3.H05 NA19239.r3.H06 NA19239.r3.H07\n",
       "ENSG00000186092 0              0              0              0             \n",
       "ENSG00000237683 1              0              0              0             \n",
       "ENSG00000235249 0              0              0              0             \n",
       "ENSG00000185097 0              0              0              0             \n",
       "ENSG00000269831 0              0              0              0             \n",
       "ENSG00000269308 0              0              0              0             \n",
       "                NA19239.r3.H08 NA19239.r3.H09 NA19239.r3.H10 NA19239.r3.H11\n",
       "ENSG00000186092 0              0              0              0             \n",
       "ENSG00000237683 0              0              0              0             \n",
       "ENSG00000235249 0              0              0              0             \n",
       "ENSG00000185097 0              0              0              0             \n",
       "ENSG00000269831 0              0              0              0             \n",
       "ENSG00000269308 0              0              0              0             \n",
       "                NA19239.r3.H12\n",
       "ENSG00000186092 0             \n",
       "ENSG00000237683 0             \n",
       "ENSG00000235249 0             \n",
       "ENSG00000185097 0             \n",
       "ENSG00000269831 0             \n",
       "ENSG00000269308 0             "
      ]
     },
     "metadata": {},
     "output_type": "display_data"
    }
   ],
   "source": [
    "head(counts(tung))\n",
    "\n",
    "# Can also use: assay(tung, 'counts')"
   ]
  },
  {
   "cell_type": "code",
   "execution_count": 8,
   "id": "68273e9e",
   "metadata": {},
   "outputs": [
    {
     "data": {
      "text/plain": [
       "class: SingleCellExperiment \n",
       "dim: 20419 864 \n",
       "metadata(0):\n",
       "assays(1): counts\n",
       "rownames(20419): ENSG00000186092 ENSG00000237683 ... ERCC-00170\n",
       "  ERCC-00171\n",
       "rowData names(0):\n",
       "colnames(864): NA19098.r1.A01 NA19098.r1.A02 ... NA19239.r3.H11\n",
       "  NA19239.r3.H12\n",
       "colData names(5): individual replicate well batch sample_id\n",
       "reducedDimNames(0):\n",
       "mainExpName: NULL\n",
       "altExpNames(0):"
      ]
     },
     "metadata": {},
     "output_type": "display_data"
    }
   ],
   "source": [
    "tung"
   ]
  },
  {
   "cell_type": "code",
   "execution_count": 9,
   "id": "20bb955e",
   "metadata": {},
   "outputs": [
    {
     "data": {
      "text/plain": [
       "DataFrame with 20419 rows and 0 columns"
      ]
     },
     "metadata": {},
     "output_type": "display_data"
    }
   ],
   "source": [
    "# Table of gene metadata\n",
    "\n",
    "rowData(tung)"
   ]
  },
  {
   "cell_type": "code",
   "execution_count": 10,
   "id": "4ba94917",
   "metadata": {},
   "outputs": [
    {
     "data": {
      "text/plain": [
       "DataFrame with 864 rows and 5 columns\n",
       "                individual   replicate        well       batch      sample_id\n",
       "               <character> <character> <character> <character>    <character>\n",
       "NA19098.r1.A01     NA19098          r1         A01  NA19098.r1 NA19098.r1.A01\n",
       "NA19098.r1.A02     NA19098          r1         A02  NA19098.r1 NA19098.r1.A02\n",
       "NA19098.r1.A03     NA19098          r1         A03  NA19098.r1 NA19098.r1.A03\n",
       "NA19098.r1.A04     NA19098          r1         A04  NA19098.r1 NA19098.r1.A04\n",
       "NA19098.r1.A05     NA19098          r1         A05  NA19098.r1 NA19098.r1.A05\n",
       "...                    ...         ...         ...         ...            ...\n",
       "NA19239.r3.H08     NA19239          r3         H08  NA19239.r3 NA19239.r3.H08\n",
       "NA19239.r3.H09     NA19239          r3         H09  NA19239.r3 NA19239.r3.H09\n",
       "NA19239.r3.H10     NA19239          r3         H10  NA19239.r3 NA19239.r3.H10\n",
       "NA19239.r3.H11     NA19239          r3         H11  NA19239.r3 NA19239.r3.H11\n",
       "NA19239.r3.H12     NA19239          r3         H12  NA19239.r3 NA19239.r3.H12"
      ]
     },
     "metadata": {},
     "output_type": "display_data"
    }
   ],
   "source": [
    "# Table of cell metadata\n",
    "\n",
    "colData(tung)"
   ]
  },
  {
   "cell_type": "code",
   "execution_count": 11,
   "id": "c534d93c",
   "metadata": {},
   "outputs": [
    {
     "data": {
      "text/plain": [
       "\n",
       "NA19098.r1 NA19098.r2 NA19098.r3 NA19101.r1 NA19101.r2 NA19101.r3 NA19239.r1 \n",
       "        96         96         96         96         96         96         96 \n",
       "NA19239.r2 NA19239.r3 \n",
       "        96         96 "
      ]
     },
     "metadata": {},
     "output_type": "display_data"
    }
   ],
   "source": [
    "# Check how many cells per batch - access a column of colData using sce$colname\n",
    "\n",
    "table(colData(tung)$batch)"
   ]
  },
  {
   "cell_type": "markdown",
   "id": "0a8cc15f",
   "metadata": {},
   "source": [
    "There are 96 cells per batch which suggests the authors used a 96 well plate (a low-throughput method)."
   ]
  },
  {
   "cell_type": "markdown",
   "id": "a5496eca",
   "metadata": {},
   "source": [
    "**Modifying sce objects**\n",
    "\n",
    "You can modify an SCE object by using the `<-` operator:\n",
    "\n",
    "`assay(sce, 'name_of_new_assay') <- new_matrix`\n",
    "\n",
    "So, you can use this to do things like make an assay with log-transformed counts data."
   ]
  },
  {
   "cell_type": "code",
   "execution_count": 12,
   "id": "36010e90",
   "metadata": {},
   "outputs": [],
   "source": [
    "assay(tung, 'logcounts') <- log2(counts(tung) + 1) # +1 otherwise log(0) = -inf"
   ]
  },
  {
   "cell_type": "code",
   "execution_count": 13,
   "id": "d792536c",
   "metadata": {},
   "outputs": [
    {
     "data": {
      "text/html": [
       "<table class=\"dataframe\">\n",
       "<caption>A matrix: 10 × 4 of type dbl</caption>\n",
       "<thead>\n",
       "\t<tr><th></th><th scope=col>NA19098.r1.A01</th><th scope=col>NA19098.r1.A02</th><th scope=col>NA19098.r1.A03</th><th scope=col>NA19098.r1.A04</th></tr>\n",
       "</thead>\n",
       "<tbody>\n",
       "\t<tr><th scope=row>ENSG00000186092</th><td>0</td><td>0.000000</td><td>0</td><td>0</td></tr>\n",
       "\t<tr><th scope=row>ENSG00000237683</th><td>0</td><td>0.000000</td><td>0</td><td>1</td></tr>\n",
       "\t<tr><th scope=row>ENSG00000235249</th><td>0</td><td>0.000000</td><td>0</td><td>0</td></tr>\n",
       "\t<tr><th scope=row>ENSG00000185097</th><td>0</td><td>0.000000</td><td>0</td><td>0</td></tr>\n",
       "\t<tr><th scope=row>ENSG00000269831</th><td>0</td><td>0.000000</td><td>0</td><td>0</td></tr>\n",
       "\t<tr><th scope=row>ENSG00000269308</th><td>0</td><td>0.000000</td><td>0</td><td>0</td></tr>\n",
       "\t<tr><th scope=row>ENSG00000187634</th><td>0</td><td>0.000000</td><td>0</td><td>0</td></tr>\n",
       "\t<tr><th scope=row>ENSG00000268179</th><td>0</td><td>0.000000</td><td>0</td><td>0</td></tr>\n",
       "\t<tr><th scope=row>ENSG00000188976</th><td>2</td><td>2.807355</td><td>1</td><td>2</td></tr>\n",
       "\t<tr><th scope=row>ENSG00000187961</th><td>0</td><td>0.000000</td><td>0</td><td>0</td></tr>\n",
       "</tbody>\n",
       "</table>\n"
      ],
      "text/latex": [
       "A matrix: 10 × 4 of type dbl\n",
       "\\begin{tabular}{r|llll}\n",
       "  & NA19098.r1.A01 & NA19098.r1.A02 & NA19098.r1.A03 & NA19098.r1.A04\\\\\n",
       "\\hline\n",
       "\tENSG00000186092 & 0 & 0.000000 & 0 & 0\\\\\n",
       "\tENSG00000237683 & 0 & 0.000000 & 0 & 1\\\\\n",
       "\tENSG00000235249 & 0 & 0.000000 & 0 & 0\\\\\n",
       "\tENSG00000185097 & 0 & 0.000000 & 0 & 0\\\\\n",
       "\tENSG00000269831 & 0 & 0.000000 & 0 & 0\\\\\n",
       "\tENSG00000269308 & 0 & 0.000000 & 0 & 0\\\\\n",
       "\tENSG00000187634 & 0 & 0.000000 & 0 & 0\\\\\n",
       "\tENSG00000268179 & 0 & 0.000000 & 0 & 0\\\\\n",
       "\tENSG00000188976 & 2 & 2.807355 & 1 & 2\\\\\n",
       "\tENSG00000187961 & 0 & 0.000000 & 0 & 0\\\\\n",
       "\\end{tabular}\n"
      ],
      "text/markdown": [
       "\n",
       "A matrix: 10 × 4 of type dbl\n",
       "\n",
       "| <!--/--> | NA19098.r1.A01 | NA19098.r1.A02 | NA19098.r1.A03 | NA19098.r1.A04 |\n",
       "|---|---|---|---|---|\n",
       "| ENSG00000186092 | 0 | 0.000000 | 0 | 0 |\n",
       "| ENSG00000237683 | 0 | 0.000000 | 0 | 1 |\n",
       "| ENSG00000235249 | 0 | 0.000000 | 0 | 0 |\n",
       "| ENSG00000185097 | 0 | 0.000000 | 0 | 0 |\n",
       "| ENSG00000269831 | 0 | 0.000000 | 0 | 0 |\n",
       "| ENSG00000269308 | 0 | 0.000000 | 0 | 0 |\n",
       "| ENSG00000187634 | 0 | 0.000000 | 0 | 0 |\n",
       "| ENSG00000268179 | 0 | 0.000000 | 0 | 0 |\n",
       "| ENSG00000188976 | 2 | 2.807355 | 1 | 2 |\n",
       "| ENSG00000187961 | 0 | 0.000000 | 0 | 0 |\n",
       "\n"
      ],
      "text/plain": [
       "                NA19098.r1.A01 NA19098.r1.A02 NA19098.r1.A03 NA19098.r1.A04\n",
       "ENSG00000186092 0              0.000000       0              0             \n",
       "ENSG00000237683 0              0.000000       0              1             \n",
       "ENSG00000235249 0              0.000000       0              0             \n",
       "ENSG00000185097 0              0.000000       0              0             \n",
       "ENSG00000269831 0              0.000000       0              0             \n",
       "ENSG00000269308 0              0.000000       0              0             \n",
       "ENSG00000187634 0              0.000000       0              0             \n",
       "ENSG00000268179 0              0.000000       0              0             \n",
       "ENSG00000188976 2              2.807355       1              2             \n",
       "ENSG00000187961 0              0.000000       0              0             "
      ]
     },
     "metadata": {},
     "output_type": "display_data"
    }
   ],
   "source": [
    "# Because we used a conventional assay name, we can use a dedicated function to access it:\n",
    "\n",
    "logcounts(tung)[1:10, 1:4]"
   ]
  },
  {
   "cell_type": "markdown",
   "id": "50813dad",
   "metadata": {},
   "source": [
    "Other ways of modifying SCE objects:"
   ]
  },
  {
   "cell_type": "code",
   "execution_count": 14,
   "id": "57535a4f",
   "metadata": {},
   "outputs": [],
   "source": [
    "#rowData(sce) or colData <- data_frame\n",
    "\n",
    "#rowData(sce)$rowname or colData(sce)$colname <- values"
   ]
  },
  {
   "cell_type": "markdown",
   "id": "671e642d",
   "metadata": {},
   "source": [
    "**Katrix statistics**\n",
    "\n",
    "As the counts data are stored in a matrix, you can use several functions to get summary statistics."
   ]
  },
  {
   "cell_type": "code",
   "execution_count": 15,
   "id": "d2e78416",
   "metadata": {},
   "outputs": [
    {
     "data": {
      "text/html": [
       "<style>\n",
       ".dl-inline {width: auto; margin:0; padding: 0}\n",
       ".dl-inline>dt, .dl-inline>dd {float: none; width: auto; display: inline-block}\n",
       ".dl-inline>dt::after {content: \":\\0020\"; padding-right: .5ex}\n",
       ".dl-inline>dt:not(:first-of-type) {padding-left: .5ex}\n",
       "</style><dl class=dl-inline><dt>NA19098.r1.A01</dt><dd>3.10113129928008</dd><dt>NA19098.r1.A02</dt><dd>3.13316029188501</dd><dt>NA19098.r1.A03</dt><dd>2.13673539350605</dd><dt>NA19098.r1.A04</dt><dd>2.64077574807777</dd><dt>NA19098.r1.A05</dt><dd>3.47161957000833</dd><dt>NA19098.r1.A06</dt><dd>3.33272932073069</dd></dl>\n"
      ],
      "text/latex": [
       "\\begin{description*}\n",
       "\\item[NA19098.r1.A01] 3.10113129928008\n",
       "\\item[NA19098.r1.A02] 3.13316029188501\n",
       "\\item[NA19098.r1.A03] 2.13673539350605\n",
       "\\item[NA19098.r1.A04] 2.64077574807777\n",
       "\\item[NA19098.r1.A05] 3.47161957000833\n",
       "\\item[NA19098.r1.A06] 3.33272932073069\n",
       "\\end{description*}\n"
      ],
      "text/markdown": [
       "NA19098.r1.A01\n",
       ":   3.10113129928008NA19098.r1.A02\n",
       ":   3.13316029188501NA19098.r1.A03\n",
       ":   2.13673539350605NA19098.r1.A04\n",
       ":   2.64077574807777NA19098.r1.A05\n",
       ":   3.47161957000833NA19098.r1.A06\n",
       ":   3.33272932073069\n",
       "\n"
      ],
      "text/plain": [
       "NA19098.r1.A01 NA19098.r1.A02 NA19098.r1.A03 NA19098.r1.A04 NA19098.r1.A05 \n",
       "      3.101131       3.133160       2.136735       2.640776       3.471620 \n",
       "NA19098.r1.A06 \n",
       "      3.332729 "
      ]
     },
     "metadata": {},
     "output_type": "display_data"
    }
   ],
   "source": [
    "# Calculate the mean counts per cell\n",
    "\n",
    "head(colMeans(counts(tung)))"
   ]
  },
  {
   "cell_type": "code",
   "execution_count": 16,
   "id": "de8f22fe",
   "metadata": {},
   "outputs": [
    {
     "data": {
      "text/plain": [
       "DataFrame with 6 rows and 6 columns\n",
       "                individual   replicate        well       batch      sample_id\n",
       "               <character> <character> <character> <character>    <character>\n",
       "NA19098.r1.A01     NA19098          r1         A01  NA19098.r1 NA19098.r1.A01\n",
       "NA19098.r1.A02     NA19098          r1         A02  NA19098.r1 NA19098.r1.A02\n",
       "NA19098.r1.A03     NA19098          r1         A03  NA19098.r1 NA19098.r1.A03\n",
       "NA19098.r1.A04     NA19098          r1         A04  NA19098.r1 NA19098.r1.A04\n",
       "NA19098.r1.A05     NA19098          r1         A05  NA19098.r1 NA19098.r1.A05\n",
       "NA19098.r1.A06     NA19098          r1         A06  NA19098.r1 NA19098.r1.A06\n",
       "               mean_counts\n",
       "                 <numeric>\n",
       "NA19098.r1.A01     3.10113\n",
       "NA19098.r1.A02     3.13316\n",
       "NA19098.r1.A03     2.13674\n",
       "NA19098.r1.A04     2.64078\n",
       "NA19098.r1.A05     3.47162\n",
       "NA19098.r1.A06     3.33273"
      ]
     },
     "metadata": {},
     "output_type": "display_data"
    }
   ],
   "source": [
    "# We can add this to colData\n",
    "\n",
    "colData(tung)$mean_counts <- colMeans(counts(tung))\n",
    "\n",
    "head(colData(tung))"
   ]
  },
  {
   "cell_type": "code",
   "execution_count": 17,
   "id": "18fe3d94",
   "metadata": {},
   "outputs": [
    {
     "data": {
      "text/html": [
       "<table class=\"dataframe\">\n",
       "<caption>A matrix: 6 × 864 of type dbl</caption>\n",
       "<thead>\n",
       "\t<tr><th></th><th scope=col>NA19098.r1.A01</th><th scope=col>NA19098.r1.A02</th><th scope=col>NA19098.r1.A03</th><th scope=col>NA19098.r1.A04</th><th scope=col>NA19098.r1.A05</th><th scope=col>NA19098.r1.A06</th><th scope=col>NA19098.r1.A07</th><th scope=col>NA19098.r1.A08</th><th scope=col>NA19098.r1.A09</th><th scope=col>NA19098.r1.A10</th><th scope=col>⋯</th><th scope=col>NA19239.r3.H03</th><th scope=col>NA19239.r3.H04</th><th scope=col>NA19239.r3.H05</th><th scope=col>NA19239.r3.H06</th><th scope=col>NA19239.r3.H07</th><th scope=col>NA19239.r3.H08</th><th scope=col>NA19239.r3.H09</th><th scope=col>NA19239.r3.H10</th><th scope=col>NA19239.r3.H11</th><th scope=col>NA19239.r3.H12</th></tr>\n",
       "</thead>\n",
       "<tbody>\n",
       "\t<tr><th scope=row>ENSG00000186092</th><td>0</td><td>0</td><td>0</td><td> 0.00000</td><td>0</td><td>0</td><td>0</td><td>0</td><td>0</td><td>0</td><td>⋯</td><td>0</td><td> 0.00000</td><td>0</td><td>0</td><td>0</td><td>0</td><td>0</td><td>0</td><td>0</td><td>0</td></tr>\n",
       "\t<tr><th scope=row>ENSG00000237683</th><td>0</td><td>0</td><td>0</td><td>18.54531</td><td>0</td><td>0</td><td>0</td><td>0</td><td>0</td><td>0</td><td>⋯</td><td>0</td><td>12.56202</td><td>0</td><td>0</td><td>0</td><td>0</td><td>0</td><td>0</td><td>0</td><td>0</td></tr>\n",
       "\t<tr><th scope=row>ENSG00000235249</th><td>0</td><td>0</td><td>0</td><td> 0.00000</td><td>0</td><td>0</td><td>0</td><td>0</td><td>0</td><td>0</td><td>⋯</td><td>0</td><td> 0.00000</td><td>0</td><td>0</td><td>0</td><td>0</td><td>0</td><td>0</td><td>0</td><td>0</td></tr>\n",
       "\t<tr><th scope=row>ENSG00000185097</th><td>0</td><td>0</td><td>0</td><td> 0.00000</td><td>0</td><td>0</td><td>0</td><td>0</td><td>0</td><td>0</td><td>⋯</td><td>0</td><td> 0.00000</td><td>0</td><td>0</td><td>0</td><td>0</td><td>0</td><td>0</td><td>0</td><td>0</td></tr>\n",
       "\t<tr><th scope=row>ENSG00000269831</th><td>0</td><td>0</td><td>0</td><td> 0.00000</td><td>0</td><td>0</td><td>0</td><td>0</td><td>0</td><td>0</td><td>⋯</td><td>0</td><td> 0.00000</td><td>0</td><td>0</td><td>0</td><td>0</td><td>0</td><td>0</td><td>0</td><td>0</td></tr>\n",
       "\t<tr><th scope=row>ENSG00000269308</th><td>0</td><td>0</td><td>0</td><td> 0.00000</td><td>0</td><td>0</td><td>0</td><td>0</td><td>0</td><td>0</td><td>⋯</td><td>0</td><td> 0.00000</td><td>0</td><td>0</td><td>0</td><td>0</td><td>0</td><td>0</td><td>0</td><td>0</td></tr>\n",
       "</tbody>\n",
       "</table>\n"
      ],
      "text/latex": [
       "A matrix: 6 × 864 of type dbl\n",
       "\\begin{tabular}{r|lllllllllllllllllllll}\n",
       "  & NA19098.r1.A01 & NA19098.r1.A02 & NA19098.r1.A03 & NA19098.r1.A04 & NA19098.r1.A05 & NA19098.r1.A06 & NA19098.r1.A07 & NA19098.r1.A08 & NA19098.r1.A09 & NA19098.r1.A10 & ⋯ & NA19239.r3.H03 & NA19239.r3.H04 & NA19239.r3.H05 & NA19239.r3.H06 & NA19239.r3.H07 & NA19239.r3.H08 & NA19239.r3.H09 & NA19239.r3.H10 & NA19239.r3.H11 & NA19239.r3.H12\\\\\n",
       "\\hline\n",
       "\tENSG00000186092 & 0 & 0 & 0 &  0.00000 & 0 & 0 & 0 & 0 & 0 & 0 & ⋯ & 0 &  0.00000 & 0 & 0 & 0 & 0 & 0 & 0 & 0 & 0\\\\\n",
       "\tENSG00000237683 & 0 & 0 & 0 & 18.54531 & 0 & 0 & 0 & 0 & 0 & 0 & ⋯ & 0 & 12.56202 & 0 & 0 & 0 & 0 & 0 & 0 & 0 & 0\\\\\n",
       "\tENSG00000235249 & 0 & 0 & 0 &  0.00000 & 0 & 0 & 0 & 0 & 0 & 0 & ⋯ & 0 &  0.00000 & 0 & 0 & 0 & 0 & 0 & 0 & 0 & 0\\\\\n",
       "\tENSG00000185097 & 0 & 0 & 0 &  0.00000 & 0 & 0 & 0 & 0 & 0 & 0 & ⋯ & 0 &  0.00000 & 0 & 0 & 0 & 0 & 0 & 0 & 0 & 0\\\\\n",
       "\tENSG00000269831 & 0 & 0 & 0 &  0.00000 & 0 & 0 & 0 & 0 & 0 & 0 & ⋯ & 0 &  0.00000 & 0 & 0 & 0 & 0 & 0 & 0 & 0 & 0\\\\\n",
       "\tENSG00000269308 & 0 & 0 & 0 &  0.00000 & 0 & 0 & 0 & 0 & 0 & 0 & ⋯ & 0 &  0.00000 & 0 & 0 & 0 & 0 & 0 & 0 & 0 & 0\\\\\n",
       "\\end{tabular}\n"
      ],
      "text/markdown": [
       "\n",
       "A matrix: 6 × 864 of type dbl\n",
       "\n",
       "| <!--/--> | NA19098.r1.A01 | NA19098.r1.A02 | NA19098.r1.A03 | NA19098.r1.A04 | NA19098.r1.A05 | NA19098.r1.A06 | NA19098.r1.A07 | NA19098.r1.A08 | NA19098.r1.A09 | NA19098.r1.A10 | ⋯ | NA19239.r3.H03 | NA19239.r3.H04 | NA19239.r3.H05 | NA19239.r3.H06 | NA19239.r3.H07 | NA19239.r3.H08 | NA19239.r3.H09 | NA19239.r3.H10 | NA19239.r3.H11 | NA19239.r3.H12 |\n",
       "|---|---|---|---|---|---|---|---|---|---|---|---|---|---|---|---|---|---|---|---|---|---|\n",
       "| ENSG00000186092 | 0 | 0 | 0 |  0.00000 | 0 | 0 | 0 | 0 | 0 | 0 | ⋯ | 0 |  0.00000 | 0 | 0 | 0 | 0 | 0 | 0 | 0 | 0 |\n",
       "| ENSG00000237683 | 0 | 0 | 0 | 18.54531 | 0 | 0 | 0 | 0 | 0 | 0 | ⋯ | 0 | 12.56202 | 0 | 0 | 0 | 0 | 0 | 0 | 0 | 0 |\n",
       "| ENSG00000235249 | 0 | 0 | 0 |  0.00000 | 0 | 0 | 0 | 0 | 0 | 0 | ⋯ | 0 |  0.00000 | 0 | 0 | 0 | 0 | 0 | 0 | 0 | 0 |\n",
       "| ENSG00000185097 | 0 | 0 | 0 |  0.00000 | 0 | 0 | 0 | 0 | 0 | 0 | ⋯ | 0 |  0.00000 | 0 | 0 | 0 | 0 | 0 | 0 | 0 | 0 |\n",
       "| ENSG00000269831 | 0 | 0 | 0 |  0.00000 | 0 | 0 | 0 | 0 | 0 | 0 | ⋯ | 0 |  0.00000 | 0 | 0 | 0 | 0 | 0 | 0 | 0 | 0 |\n",
       "| ENSG00000269308 | 0 | 0 | 0 |  0.00000 | 0 | 0 | 0 | 0 | 0 | 0 | ⋯ | 0 |  0.00000 | 0 | 0 | 0 | 0 | 0 | 0 | 0 | 0 |\n",
       "\n"
      ],
      "text/plain": [
       "                NA19098.r1.A01 NA19098.r1.A02 NA19098.r1.A03 NA19098.r1.A04\n",
       "ENSG00000186092 0              0              0               0.00000      \n",
       "ENSG00000237683 0              0              0              18.54531      \n",
       "ENSG00000235249 0              0              0               0.00000      \n",
       "ENSG00000185097 0              0              0               0.00000      \n",
       "ENSG00000269831 0              0              0               0.00000      \n",
       "ENSG00000269308 0              0              0               0.00000      \n",
       "                NA19098.r1.A05 NA19098.r1.A06 NA19098.r1.A07 NA19098.r1.A08\n",
       "ENSG00000186092 0              0              0              0             \n",
       "ENSG00000237683 0              0              0              0             \n",
       "ENSG00000235249 0              0              0              0             \n",
       "ENSG00000185097 0              0              0              0             \n",
       "ENSG00000269831 0              0              0              0             \n",
       "ENSG00000269308 0              0              0              0             \n",
       "                NA19098.r1.A09 NA19098.r1.A10 <U+22EF>        NA19239.r3.H03\n",
       "ENSG00000186092 0              0              <U+22EF> 0             \n",
       "ENSG00000237683 0              0              <U+22EF> 0             \n",
       "ENSG00000235249 0              0              <U+22EF> 0             \n",
       "ENSG00000185097 0              0              <U+22EF> 0             \n",
       "ENSG00000269831 0              0              <U+22EF> 0             \n",
       "ENSG00000269308 0              0              <U+22EF> 0             \n",
       "                NA19239.r3.H04 NA19239.r3.H05 NA19239.r3.H06 NA19239.r3.H07\n",
       "ENSG00000186092  0.00000       0              0              0             \n",
       "ENSG00000237683 12.56202       0              0              0             \n",
       "ENSG00000235249  0.00000       0              0              0             \n",
       "ENSG00000185097  0.00000       0              0              0             \n",
       "ENSG00000269831  0.00000       0              0              0             \n",
       "ENSG00000269308  0.00000       0              0              0             \n",
       "                NA19239.r3.H08 NA19239.r3.H09 NA19239.r3.H10 NA19239.r3.H11\n",
       "ENSG00000186092 0              0              0              0             \n",
       "ENSG00000237683 0              0              0              0             \n",
       "ENSG00000235249 0              0              0              0             \n",
       "ENSG00000185097 0              0              0              0             \n",
       "ENSG00000269831 0              0              0              0             \n",
       "ENSG00000269308 0              0              0              0             \n",
       "                NA19239.r3.H12\n",
       "ENSG00000186092 0             \n",
       "ENSG00000237683 0             \n",
       "ENSG00000235249 0             \n",
       "ENSG00000185097 0             \n",
       "ENSG00000269831 0             \n",
       "ENSG00000269308 0             "
      ]
     },
     "metadata": {},
     "output_type": "display_data"
    }
   ],
   "source": [
    "# Or create a counts per million assay:\n",
    "\n",
    "# Make a new colData column with the total cell counts\n",
    "colData(tung)$total_counts <- colSums(counts(tung))\n",
    "\n",
    "# Use the function sweep() which takes: \n",
    "#       - matrix to normalise\n",
    "#       - dimention to normalise along (1 = rows, 2 = cols)\n",
    "#       - statistics to normalise by\n",
    "#       - function to use for normalisation\n",
    "\n",
    "assay(tung, \"cpm\") <- sweep(counts(tung), 2, tung$total_counts/1e6, '/') # divide by 1e6 so in units of millions\n",
    "\n",
    "head(cpm(tung))"
   ]
  },
  {
   "cell_type": "code",
   "execution_count": 18,
   "id": "4d59b409",
   "metadata": {},
   "outputs": [
    {
     "data": {
      "text/html": [
       "<style>\n",
       ".dl-inline {width: auto; margin:0; padding: 0}\n",
       ".dl-inline>dt, .dl-inline>dd {float: none; width: auto; display: inline-block}\n",
       ".dl-inline>dt::after {content: \":\\0020\"; padding-right: .5ex}\n",
       ".dl-inline>dt:not(:first-of-type) {padding-left: .5ex}\n",
       "</style><dl class=dl-inline><dt>NA19098.r1.A01</dt><dd>1e+06</dd><dt>NA19098.r1.A02</dt><dd>1e+06</dd><dt>NA19098.r1.A03</dt><dd>1e+06</dd><dt>NA19098.r1.A04</dt><dd>1e+06</dd><dt>NA19098.r1.A05</dt><dd>1e+06</dd><dt>NA19098.r1.A06</dt><dd>1e+06</dd></dl>\n"
      ],
      "text/latex": [
       "\\begin{description*}\n",
       "\\item[NA19098.r1.A01] 1e+06\n",
       "\\item[NA19098.r1.A02] 1e+06\n",
       "\\item[NA19098.r1.A03] 1e+06\n",
       "\\item[NA19098.r1.A04] 1e+06\n",
       "\\item[NA19098.r1.A05] 1e+06\n",
       "\\item[NA19098.r1.A06] 1e+06\n",
       "\\end{description*}\n"
      ],
      "text/markdown": [
       "NA19098.r1.A01\n",
       ":   1e+06NA19098.r1.A02\n",
       ":   1e+06NA19098.r1.A03\n",
       ":   1e+06NA19098.r1.A04\n",
       ":   1e+06NA19098.r1.A05\n",
       ":   1e+06NA19098.r1.A06\n",
       ":   1e+06\n",
       "\n"
      ],
      "text/plain": [
       "NA19098.r1.A01 NA19098.r1.A02 NA19098.r1.A03 NA19098.r1.A04 NA19098.r1.A05 \n",
       "         1e+06          1e+06          1e+06          1e+06          1e+06 \n",
       "NA19098.r1.A06 \n",
       "         1e+06 "
      ]
     },
     "metadata": {},
     "output_type": "display_data"
    }
   ],
   "source": [
    "# See if the columns add up to 1e6 to check if it is correct\n",
    "\n",
    "head(colSums(cpm(tung)))"
   ]
  },
  {
   "cell_type": "markdown",
   "id": "12beb6f0",
   "metadata": {},
   "source": [
    "**Subsetting SCE objects**\n",
    "\n",
    "Like a matrix or dataframe, you can use `[row, col]` to subset an SCE object."
   ]
  },
  {
   "cell_type": "code",
   "execution_count": 19,
   "id": "887fb604",
   "metadata": {},
   "outputs": [
    {
     "data": {
      "text/html": [
       "<style>\n",
       ".dl-inline {width: auto; margin:0; padding: 0}\n",
       ".dl-inline>dt, .dl-inline>dd {float: none; width: auto; display: inline-block}\n",
       ".dl-inline>dt::after {content: \":\\0020\"; padding-right: .5ex}\n",
       ".dl-inline>dt:not(:first-of-type) {padding-left: .5ex}\n",
       "</style><dl class=dl-inline><dt>ENSG00000186092</dt><dd>FALSE</dd><dt>ENSG00000237683</dt><dd>TRUE</dd><dt>ENSG00000235249</dt><dd>FALSE</dd><dt>ENSG00000185097</dt><dd>FALSE</dd><dt>ENSG00000269831</dt><dd>FALSE</dd><dt>ENSG00000269308</dt><dd>FALSE</dd><dt>ENSG00000187634</dt><dd>TRUE</dd><dt>ENSG00000268179</dt><dd>FALSE</dd><dt>ENSG00000188976</dt><dd>TRUE</dd><dt>ENSG00000187961</dt><dd>TRUE</dd></dl>\n"
      ],
      "text/latex": [
       "\\begin{description*}\n",
       "\\item[ENSG00000186092] FALSE\n",
       "\\item[ENSG00000237683] TRUE\n",
       "\\item[ENSG00000235249] FALSE\n",
       "\\item[ENSG00000185097] FALSE\n",
       "\\item[ENSG00000269831] FALSE\n",
       "\\item[ENSG00000269308] FALSE\n",
       "\\item[ENSG00000187634] TRUE\n",
       "\\item[ENSG00000268179] FALSE\n",
       "\\item[ENSG00000188976] TRUE\n",
       "\\item[ENSG00000187961] TRUE\n",
       "\\end{description*}\n"
      ],
      "text/markdown": [
       "ENSG00000186092\n",
       ":   FALSEENSG00000237683\n",
       ":   TRUEENSG00000235249\n",
       ":   FALSEENSG00000185097\n",
       ":   FALSEENSG00000269831\n",
       ":   FALSEENSG00000269308\n",
       ":   FALSEENSG00000187634\n",
       ":   TRUEENSG00000268179\n",
       ":   FALSEENSG00000188976\n",
       ":   TRUEENSG00000187961\n",
       ":   TRUE\n",
       "\n"
      ],
      "text/plain": [
       "ENSG00000186092 ENSG00000237683 ENSG00000235249 ENSG00000185097 ENSG00000269831 \n",
       "          FALSE            TRUE           FALSE           FALSE           FALSE \n",
       "ENSG00000269308 ENSG00000187634 ENSG00000268179 ENSG00000188976 ENSG00000187961 \n",
       "          FALSE            TRUE           FALSE            TRUE            TRUE "
      ]
     },
     "metadata": {},
     "output_type": "display_data"
    }
   ],
   "source": [
    "gene_means <- rowMeans(counts(tung))\n",
    "\n",
    "# Use logical operator outside the brackets to get if TRUE or FALSE\n",
    "gene_means[1:10] > 0.01"
   ]
  },
  {
   "cell_type": "code",
   "execution_count": 20,
   "id": "caf64f9b",
   "metadata": {},
   "outputs": [
    {
     "data": {
      "text/plain": [
       "class: SingleCellExperiment \n",
       "dim: 16052 864 \n",
       "metadata(0):\n",
       "assays(3): counts logcounts cpm\n",
       "rownames(16052): ENSG00000237683 ENSG00000187634 ... ERCC-00170\n",
       "  ERCC-00171\n",
       "rowData names(0):\n",
       "colnames(864): NA19098.r1.A01 NA19098.r1.A02 ... NA19239.r3.H11\n",
       "  NA19239.r3.H12\n",
       "colData names(7): individual replicate ... mean_counts total_counts\n",
       "reducedDimNames(0):\n",
       "mainExpName: NULL\n",
       "altExpNames(0):"
      ]
     },
     "metadata": {},
     "output_type": "display_data"
    }
   ],
   "source": [
    "# Use logical operator inside the brackets to filter the data\n",
    "\n",
    "tung[gene_means > 0.01, ]"
   ]
  },
  {
   "cell_type": "markdown",
   "id": "abb0bc9c",
   "metadata": {},
   "source": [
    "A common use is to only keep cells with a certain number of genes above a certain threshold of expression."
   ]
  },
  {
   "cell_type": "code",
   "execution_count": 23,
   "id": "26c97f48",
   "metadata": {},
   "outputs": [
    {
     "data": {
      "text/html": [
       "<table class=\"dataframe\">\n",
       "<caption>A matrix: 5 × 8 of type lgl</caption>\n",
       "<thead>\n",
       "\t<tr><th></th><th scope=col>NA19098.r1.A01</th><th scope=col>NA19098.r1.A02</th><th scope=col>NA19098.r1.A03</th><th scope=col>NA19098.r1.A04</th><th scope=col>NA19098.r1.A05</th><th scope=col>NA19098.r1.A06</th><th scope=col>NA19098.r1.A07</th><th scope=col>NA19098.r1.A08</th></tr>\n",
       "</thead>\n",
       "<tbody>\n",
       "\t<tr><th scope=row>ENSG00000186092</th><td>FALSE</td><td>FALSE</td><td>FALSE</td><td>FALSE</td><td>FALSE</td><td>FALSE</td><td>FALSE</td><td>FALSE</td></tr>\n",
       "\t<tr><th scope=row>ENSG00000237683</th><td>FALSE</td><td>FALSE</td><td>FALSE</td><td> TRUE</td><td>FALSE</td><td>FALSE</td><td>FALSE</td><td>FALSE</td></tr>\n",
       "\t<tr><th scope=row>ENSG00000235249</th><td>FALSE</td><td>FALSE</td><td>FALSE</td><td>FALSE</td><td>FALSE</td><td>FALSE</td><td>FALSE</td><td>FALSE</td></tr>\n",
       "\t<tr><th scope=row>ENSG00000185097</th><td>FALSE</td><td>FALSE</td><td>FALSE</td><td>FALSE</td><td>FALSE</td><td>FALSE</td><td>FALSE</td><td>FALSE</td></tr>\n",
       "\t<tr><th scope=row>ENSG00000269831</th><td>FALSE</td><td>FALSE</td><td>FALSE</td><td>FALSE</td><td>FALSE</td><td>FALSE</td><td>FALSE</td><td>FALSE</td></tr>\n",
       "</tbody>\n",
       "</table>\n"
      ],
      "text/latex": [
       "A matrix: 5 × 8 of type lgl\n",
       "\\begin{tabular}{r|llllllll}\n",
       "  & NA19098.r1.A01 & NA19098.r1.A02 & NA19098.r1.A03 & NA19098.r1.A04 & NA19098.r1.A05 & NA19098.r1.A06 & NA19098.r1.A07 & NA19098.r1.A08\\\\\n",
       "\\hline\n",
       "\tENSG00000186092 & FALSE & FALSE & FALSE & FALSE & FALSE & FALSE & FALSE & FALSE\\\\\n",
       "\tENSG00000237683 & FALSE & FALSE & FALSE &  TRUE & FALSE & FALSE & FALSE & FALSE\\\\\n",
       "\tENSG00000235249 & FALSE & FALSE & FALSE & FALSE & FALSE & FALSE & FALSE & FALSE\\\\\n",
       "\tENSG00000185097 & FALSE & FALSE & FALSE & FALSE & FALSE & FALSE & FALSE & FALSE\\\\\n",
       "\tENSG00000269831 & FALSE & FALSE & FALSE & FALSE & FALSE & FALSE & FALSE & FALSE\\\\\n",
       "\\end{tabular}\n"
      ],
      "text/markdown": [
       "\n",
       "A matrix: 5 × 8 of type lgl\n",
       "\n",
       "| <!--/--> | NA19098.r1.A01 | NA19098.r1.A02 | NA19098.r1.A03 | NA19098.r1.A04 | NA19098.r1.A05 | NA19098.r1.A06 | NA19098.r1.A07 | NA19098.r1.A08 |\n",
       "|---|---|---|---|---|---|---|---|---|\n",
       "| ENSG00000186092 | FALSE | FALSE | FALSE | FALSE | FALSE | FALSE | FALSE | FALSE |\n",
       "| ENSG00000237683 | FALSE | FALSE | FALSE |  TRUE | FALSE | FALSE | FALSE | FALSE |\n",
       "| ENSG00000235249 | FALSE | FALSE | FALSE | FALSE | FALSE | FALSE | FALSE | FALSE |\n",
       "| ENSG00000185097 | FALSE | FALSE | FALSE | FALSE | FALSE | FALSE | FALSE | FALSE |\n",
       "| ENSG00000269831 | FALSE | FALSE | FALSE | FALSE | FALSE | FALSE | FALSE | FALSE |\n",
       "\n"
      ],
      "text/plain": [
       "                NA19098.r1.A01 NA19098.r1.A02 NA19098.r1.A03 NA19098.r1.A04\n",
       "ENSG00000186092 FALSE          FALSE          FALSE          FALSE         \n",
       "ENSG00000237683 FALSE          FALSE          FALSE           TRUE         \n",
       "ENSG00000235249 FALSE          FALSE          FALSE          FALSE         \n",
       "ENSG00000185097 FALSE          FALSE          FALSE          FALSE         \n",
       "ENSG00000269831 FALSE          FALSE          FALSE          FALSE         \n",
       "                NA19098.r1.A05 NA19098.r1.A06 NA19098.r1.A07 NA19098.r1.A08\n",
       "ENSG00000186092 FALSE          FALSE          FALSE          FALSE         \n",
       "ENSG00000237683 FALSE          FALSE          FALSE          FALSE         \n",
       "ENSG00000235249 FALSE          FALSE          FALSE          FALSE         \n",
       "ENSG00000185097 FALSE          FALSE          FALSE          FALSE         \n",
       "ENSG00000269831 FALSE          FALSE          FALSE          FALSE         "
      ]
     },
     "metadata": {},
     "output_type": "display_data"
    }
   ],
   "source": [
    "# First, check which genes have expression over a certain threashold:\n",
    "\n",
    "over_zero <- counts(tung) > 0\n",
    "over_zero[1:5, 1:8]"
   ]
  },
  {
   "cell_type": "code",
   "execution_count": 28,
   "id": "fa0f25c9",
   "metadata": {},
   "outputs": [
    {
     "data": {
      "text/html": [
       "<style>\n",
       ".dl-inline {width: auto; margin:0; padding: 0}\n",
       ".dl-inline>dt, .dl-inline>dd {float: none; width: auto; display: inline-block}\n",
       ".dl-inline>dt::after {content: \":\\0020\"; padding-right: .5ex}\n",
       ".dl-inline>dt:not(:first-of-type) {padding-left: .5ex}\n",
       "</style><dl class=dl-inline><dt>NA19098.r1.A01</dt><dd>8368</dd><dt>NA19098.r1.A02</dt><dd>8234</dd><dt>NA19098.r1.A03</dt><dd>7289</dd><dt>NA19098.r1.A04</dt><dd>7985</dd><dt>NA19098.r1.A05</dt><dd>8619</dd><dt>NA19098.r1.A06</dt><dd>8659</dd><dt>NA19098.r1.A07</dt><dd>8054</dd><dt>NA19098.r1.A08</dt><dd>9429</dd></dl>\n"
      ],
      "text/latex": [
       "\\begin{description*}\n",
       "\\item[NA19098.r1.A01] 8368\n",
       "\\item[NA19098.r1.A02] 8234\n",
       "\\item[NA19098.r1.A03] 7289\n",
       "\\item[NA19098.r1.A04] 7985\n",
       "\\item[NA19098.r1.A05] 8619\n",
       "\\item[NA19098.r1.A06] 8659\n",
       "\\item[NA19098.r1.A07] 8054\n",
       "\\item[NA19098.r1.A08] 9429\n",
       "\\end{description*}\n"
      ],
      "text/markdown": [
       "NA19098.r1.A01\n",
       ":   8368NA19098.r1.A02\n",
       ":   8234NA19098.r1.A03\n",
       ":   7289NA19098.r1.A04\n",
       ":   7985NA19098.r1.A05\n",
       ":   8619NA19098.r1.A06\n",
       ":   8659NA19098.r1.A07\n",
       ":   8054NA19098.r1.A08\n",
       ":   9429\n",
       "\n"
      ],
      "text/plain": [
       "NA19098.r1.A01 NA19098.r1.A02 NA19098.r1.A03 NA19098.r1.A04 NA19098.r1.A05 \n",
       "          8368           8234           7289           7985           8619 \n",
       "NA19098.r1.A06 NA19098.r1.A07 NA19098.r1.A08 \n",
       "          8659           8054           9429 "
      ]
     },
     "metadata": {},
     "output_type": "display_data"
    }
   ],
   "source": [
    "# As TRUE is encoded as 1 and FALSE is encoded as 0, we can calculate the total number of genes over the threashold\n",
    "\n",
    "total_detected_per_cell <- colSums(counts(tung) > 0)\n",
    "total_detected_per_cell[1:8]"
   ]
  },
  {
   "cell_type": "code",
   "execution_count": 29,
   "id": "a8bd2e1a",
   "metadata": {},
   "outputs": [
    {
     "data": {
      "text/plain": [
       "class: SingleCellExperiment \n",
       "dim: 20419 849 \n",
       "metadata(0):\n",
       "assays(3): counts logcounts cpm\n",
       "rownames(20419): ENSG00000186092 ENSG00000237683 ... ERCC-00170\n",
       "  ERCC-00171\n",
       "rowData names(0):\n",
       "colnames(849): NA19098.r1.A01 NA19098.r1.A02 ... NA19239.r3.H11\n",
       "  NA19239.r3.H12\n",
       "colData names(7): individual replicate ... mean_counts total_counts\n",
       "reducedDimNames(0):\n",
       "mainExpName: NULL\n",
       "altExpNames(0):"
      ]
     },
     "metadata": {},
     "output_type": "display_data"
    }
   ],
   "source": [
    "# Finally, we can select for cells with a minimum number of detected genes\n",
    "\n",
    "tung[, total_detected_per_cell > 5000]"
   ]
  },
  {
   "cell_type": "markdown",
   "id": "f190d419",
   "metadata": {},
   "source": [
    "Notice there the SCE object has fewer cells than before. Here are some useful filters:\n",
    "\n",
    "Total counts per cell greater than x - `colSums(counts(sce)) > x`\n",
    "\n",
    "Cells with at least y genes having counts greater than x - `colSums(counts(sce) > x) > y`\n",
    "\n",
    "Total counts per gene greater than x - `rowSums(counts(sce)) > x`\n",
    "\n",
    "Genes with at least y cells having counts greater than y - `rowSums(counts(sce) > x) > y`"
   ]
  },
  {
   "cell_type": "markdown",
   "id": "47f45689",
   "metadata": {},
   "source": [
    "**Visualising the data**\n",
    "\n",
    "We can use ggplot2 to make plots. For this, we need to make our data into a dataframe first. Also, the Bioconductor package scater has some helper functions for retrieving from SCE objects."
   ]
  },
  {
   "cell_type": "markdown",
   "id": "4773b5a4",
   "metadata": {},
   "source": [
    "You can visualise the distribution of the total counts per cell for each batch"
   ]
  },
  {
   "cell_type": "code",
   "execution_count": 33,
   "id": "0b01b2c7",
   "metadata": {},
   "outputs": [
    {
     "data": {
      "text/html": [
       "<table class=\"dataframe\">\n",
       "<caption>A data.frame: 6 × 7</caption>\n",
       "<thead>\n",
       "\t<tr><th></th><th scope=col>individual</th><th scope=col>replicate</th><th scope=col>well</th><th scope=col>batch</th><th scope=col>sample_id</th><th scope=col>mean_counts</th><th scope=col>total_counts</th></tr>\n",
       "\t<tr><th></th><th scope=col>&lt;chr&gt;</th><th scope=col>&lt;chr&gt;</th><th scope=col>&lt;chr&gt;</th><th scope=col>&lt;chr&gt;</th><th scope=col>&lt;chr&gt;</th><th scope=col>&lt;dbl&gt;</th><th scope=col>&lt;dbl&gt;</th></tr>\n",
       "</thead>\n",
       "<tbody>\n",
       "\t<tr><th scope=row>NA19098.r1.A01</th><td>NA19098</td><td>r1</td><td>A01</td><td>NA19098.r1</td><td>NA19098.r1.A01</td><td>3.101131</td><td>63322</td></tr>\n",
       "\t<tr><th scope=row>NA19098.r1.A02</th><td>NA19098</td><td>r1</td><td>A02</td><td>NA19098.r1</td><td>NA19098.r1.A02</td><td>3.133160</td><td>63976</td></tr>\n",
       "\t<tr><th scope=row>NA19098.r1.A03</th><td>NA19098</td><td>r1</td><td>A03</td><td>NA19098.r1</td><td>NA19098.r1.A03</td><td>2.136735</td><td>43630</td></tr>\n",
       "\t<tr><th scope=row>NA19098.r1.A04</th><td>NA19098</td><td>r1</td><td>A04</td><td>NA19098.r1</td><td>NA19098.r1.A04</td><td>2.640776</td><td>53922</td></tr>\n",
       "\t<tr><th scope=row>NA19098.r1.A05</th><td>NA19098</td><td>r1</td><td>A05</td><td>NA19098.r1</td><td>NA19098.r1.A05</td><td>3.471620</td><td>70887</td></tr>\n",
       "\t<tr><th scope=row>NA19098.r1.A06</th><td>NA19098</td><td>r1</td><td>A06</td><td>NA19098.r1</td><td>NA19098.r1.A06</td><td>3.332729</td><td>68051</td></tr>\n",
       "</tbody>\n",
       "</table>\n"
      ],
      "text/latex": [
       "A data.frame: 6 × 7\n",
       "\\begin{tabular}{r|lllllll}\n",
       "  & individual & replicate & well & batch & sample\\_id & mean\\_counts & total\\_counts\\\\\n",
       "  & <chr> & <chr> & <chr> & <chr> & <chr> & <dbl> & <dbl>\\\\\n",
       "\\hline\n",
       "\tNA19098.r1.A01 & NA19098 & r1 & A01 & NA19098.r1 & NA19098.r1.A01 & 3.101131 & 63322\\\\\n",
       "\tNA19098.r1.A02 & NA19098 & r1 & A02 & NA19098.r1 & NA19098.r1.A02 & 3.133160 & 63976\\\\\n",
       "\tNA19098.r1.A03 & NA19098 & r1 & A03 & NA19098.r1 & NA19098.r1.A03 & 2.136735 & 43630\\\\\n",
       "\tNA19098.r1.A04 & NA19098 & r1 & A04 & NA19098.r1 & NA19098.r1.A04 & 2.640776 & 53922\\\\\n",
       "\tNA19098.r1.A05 & NA19098 & r1 & A05 & NA19098.r1 & NA19098.r1.A05 & 3.471620 & 70887\\\\\n",
       "\tNA19098.r1.A06 & NA19098 & r1 & A06 & NA19098.r1 & NA19098.r1.A06 & 3.332729 & 68051\\\\\n",
       "\\end{tabular}\n"
      ],
      "text/markdown": [
       "\n",
       "A data.frame: 6 × 7\n",
       "\n",
       "| <!--/--> | individual &lt;chr&gt; | replicate &lt;chr&gt; | well &lt;chr&gt; | batch &lt;chr&gt; | sample_id &lt;chr&gt; | mean_counts &lt;dbl&gt; | total_counts &lt;dbl&gt; |\n",
       "|---|---|---|---|---|---|---|---|\n",
       "| NA19098.r1.A01 | NA19098 | r1 | A01 | NA19098.r1 | NA19098.r1.A01 | 3.101131 | 63322 |\n",
       "| NA19098.r1.A02 | NA19098 | r1 | A02 | NA19098.r1 | NA19098.r1.A02 | 3.133160 | 63976 |\n",
       "| NA19098.r1.A03 | NA19098 | r1 | A03 | NA19098.r1 | NA19098.r1.A03 | 2.136735 | 43630 |\n",
       "| NA19098.r1.A04 | NA19098 | r1 | A04 | NA19098.r1 | NA19098.r1.A04 | 2.640776 | 53922 |\n",
       "| NA19098.r1.A05 | NA19098 | r1 | A05 | NA19098.r1 | NA19098.r1.A05 | 3.471620 | 70887 |\n",
       "| NA19098.r1.A06 | NA19098 | r1 | A06 | NA19098.r1 | NA19098.r1.A06 | 3.332729 | 68051 |\n",
       "\n"
      ],
      "text/plain": [
       "               individual replicate well batch      sample_id      mean_counts\n",
       "NA19098.r1.A01 NA19098    r1        A01  NA19098.r1 NA19098.r1.A01 3.101131   \n",
       "NA19098.r1.A02 NA19098    r1        A02  NA19098.r1 NA19098.r1.A02 3.133160   \n",
       "NA19098.r1.A03 NA19098    r1        A03  NA19098.r1 NA19098.r1.A03 2.136735   \n",
       "NA19098.r1.A04 NA19098    r1        A04  NA19098.r1 NA19098.r1.A04 2.640776   \n",
       "NA19098.r1.A05 NA19098    r1        A05  NA19098.r1 NA19098.r1.A05 3.471620   \n",
       "NA19098.r1.A06 NA19098    r1        A06  NA19098.r1 NA19098.r1.A06 3.332729   \n",
       "               total_counts\n",
       "NA19098.r1.A01 63322       \n",
       "NA19098.r1.A02 63976       \n",
       "NA19098.r1.A03 43630       \n",
       "NA19098.r1.A04 53922       \n",
       "NA19098.r1.A05 70887       \n",
       "NA19098.r1.A06 68051       "
      ]
     },
     "metadata": {},
     "output_type": "display_data"
    }
   ],
   "source": [
    "# First, convert the colData into a dataframe\n",
    "\n",
    "cell_metadata <- as.data.frame(colData(tung))\n",
    "\n",
    "head(cell_metadata)"
   ]
  },
  {
   "cell_type": "code",
   "execution_count": 37,
   "id": "fb1c8716",
   "metadata": {},
   "outputs": [
    {
     "data": {
      "image/png": "[encoded data removed]",
      "text/plain": [
       "plot without title"
      ]
     },
     "metadata": {
      "image/png": {
       "height": 420,
       "width": 420
      }
     },
     "output_type": "display_data"
    }
   ],
   "source": [
    "# Next, use ggplot2 to visualise with a violin plot. The x axis is the batch and the y axis are the total counts\n",
    "\n",
    "library(ggplot2)\n",
    "\n",
    "ggplot(data = cell_metadata, aes(x = batch, y = total_counts)) +\n",
    "  geom_violin(fill = 'turquoise4') + theme_bw() + \n",
    "  theme(axis.text.x = element_text(angle = 45, vjust = 1, hjust=1))"
   ]
  },
  {
   "cell_type": "markdown",
   "id": "e59b8f17",
   "metadata": {},
   "source": [
    "You can also check a distribution of a gene for each batch. This is a bit more complicated as our batch data are in the colData, whereas the gene expression data are stored in the counts assay. We need these in the same dataframe to be used by ggplot2. This is where we can use the scater package. It contains the `ggcells` function that lets us specify the information we need for the plot."
   ]
  },
  {
   "cell_type": "code",
   "execution_count": 42,
   "id": "57abe42a",
   "metadata": {},
   "outputs": [
    {
     "data": {
      "image/png": "[encoded data removed]",
      "text/plain": [
       "plot without title"
      ]
     },
     "metadata": {
      "image/png": {
       "height": 420,
       "width": 420
      }
     },
     "output_type": "display_data"
    }
   ],
   "source": [
    "# This is the same plot as above, but we don't need to make the dataframe first\n",
    "\n",
    "library(scater)\n",
    "\n",
    "ggcells(tung, aes(x = batch, y = total_counts)) + \n",
    "  geom_violin(fill = 'turquoise3') + theme_bw() + \n",
    "  theme(axis.text.x = element_text(angle = 45, vjust = 1, hjust=1))"
   ]
  },
  {
   "cell_type": "code",
   "execution_count": 43,
   "id": "d9c247e9",
   "metadata": {},
   "outputs": [
    {
     "data": {
      "image/png": "[encoded data removed]",
      "text/plain": [
       "plot without title"
      ]
     },
     "metadata": {
      "image/png": {
       "height": 420,
       "width": 420
      }
     },
     "output_type": "display_data"
    }
   ],
   "source": [
    "# Now to plot the expresssion of one of our genes in each batch:\n",
    "\n",
    "ggcells(tung, aes(x = batch, y = ENSG00000198938), exprs_values = \"logcounts\") + \n",
    "  geom_violin(fill = 'yellowgreen') + theme_bw() + \n",
    "  theme(axis.text.x = element_text(angle = 45, vjust = 1, hjust=1))"
   ]
  },
  {
   "cell_type": "markdown",
   "id": "a84509fb",
   "metadata": {},
   "source": [
    "We can also plot scatter plots. For example, we can plot the relationship between the mean and variance of raw counts (coloured by batch)."
   ]
  },
  {
   "cell_type": "code",
   "execution_count": 45,
   "id": "da8678be",
   "metadata": {
    "scrolled": true
   },
   "outputs": [
    {
     "data": {
      "image/png": "[encoded data removed]",
      "text/plain": [
       "plot without title"
      ]
     },
     "metadata": {
      "image/png": {
       "height": 420,
       "width": 420
      }
     },
     "output_type": "display_data"
    }
   ],
   "source": [
    "# First, add a new column to our colData with the variance\n",
    "\n",
    "colData(tung)$var_counts <- colVars(counts(tung))\n",
    "\n",
    "# Now, make the plot\n",
    "\n",
    "ggcells(tung, aes(mean_counts, var_counts)) +\n",
    "  geom_point(aes(colour = batch)) + theme_bw()"
   ]
  },
  {
   "cell_type": "markdown",
   "id": "3b624b9a",
   "metadata": {},
   "source": [
    "The plot shows that there is a positive correlation between the mean and variance of out counts. This is common with count data, so it is important to use tools that model the mean-variance relationship properly so that we know if genes are actually variable in our dataset, and not just variable because it's highly expressed."
   ]
  },
  {
   "cell_type": "markdown",
   "id": "3763aef5",
   "metadata": {},
   "source": [
    "## Quality control and exploration"
   ]
  },
  {
   "cell_type": "markdown",
   "id": "f54ba12b",
   "metadata": {},
   "source": [
    "We now need to look at the expression matrix and remove things like low quality cells that may cause noise which will impact our downstream analyses. As there is currently no standard method for scRNA sequencing, so the exact values for the QC steps will vary between experiments. This means that instead we will be looking for outliers in our dataset. It also means that care should be taken if you want to compare QC metrics between experiments using different protocols."
   ]
  },
  {
   "cell_type": "markdown",
   "id": "1fadbd0a",
   "metadata": {},
   "source": [
    "**Converting ENSEMBL IDs to gene names (symbols)**\n",
    "\n",
    "To get a better idea of our data, it's useful to convert the ENSEMBL IDs into names we can easily understand."
   ]
  },
  {
   "cell_type": "code",
   "execution_count": 58,
   "id": "678f04d9",
   "metadata": {},
   "outputs": [],
   "source": [
    "# We'll be using these Bioconductor packages\n",
    "\n",
    "suppressMessages(library(scater))\n",
    "suppressMessages(library(SingleCellExperiment))\n",
    "suppressMessages(library(AnnotationDbi))\n",
    "suppressMessages(library(org.Hs.eg.db))\n",
    "suppressMessages(library(EnsDb.Hsapiens.v86))"
   ]
  },
  {
   "cell_type": "code",
   "execution_count": 62,
   "id": "7152c44f",
   "metadata": {},
   "outputs": [
    {
     "data": {
      "text/plain": [
       "class: SingleCellExperiment \n",
       "dim: 20327 864 \n",
       "metadata(0):\n",
       "assays(3): counts logcounts cpm\n",
       "rownames(20327): ENSG00000186092 ENSG00000237683 ... ENSG00000172288\n",
       "  ENSG00000269393\n",
       "rowData names(0):\n",
       "colnames(864): NA19098.r1.A01 NA19098.r1.A02 ... NA19239.r3.H11\n",
       "  NA19239.r3.H12\n",
       "colData names(8): individual replicate ... total_counts var_counts\n",
       "reducedDimNames(0):\n",
       "mainExpName: NULL\n",
       "altExpNames(1): ERCC"
      ]
     },
     "metadata": {},
     "output_type": "display_data"
    }
   ],
   "source": [
    "# First, we store the ERCC data we don't need in altExp and remmove ERCC features from the main object\n",
    "\n",
    "altExp(tung,\"ERCC\") <- tung[grep(\"^ERCC-\",rownames(tung)), ]\n",
    "tung <- tung[grep(\"^ERCC-\",rownames(tung),invert = T), ]\n",
    "\n",
    "tung # Note the altExpNames section now contains ERCC"
   ]
  },
  {
   "cell_type": "code",
   "execution_count": 65,
   "id": "a3237c6e",
   "metadata": {},
   "outputs": [
    {
     "name": "stderr",
     "output_type": "stream",
     "text": [
      "'select()' returned 1:many mapping between keys and columns\n",
      "\n"
     ]
    },
    {
     "data": {
      "text/plain": [
       "\n",
       "FALSE  TRUE \n",
       "18933  1394 "
      ]
     },
     "metadata": {},
     "output_type": "display_data"
    }
   ],
   "source": [
    "# Now we can change the ENSEMBL IDs to the gene symbols using mapIds from the AnnotationDbi package. \n",
    "# This retuns one symbols per ID, but adding the multiVals argument can return more\n",
    "\n",
    "gene_names <- mapIds(org.Hs.eg.db, keys=rownames(tung), keytype=\"ENSEMBL\", columns=\"SYMBOL\",column=\"SYMBOL\")\n",
    "\n",
    "rowData(tung)$SYMBOL <- gene_names # Add this information to the rowData\n",
    "table(is.na(gene_names)) # Find out how many genes with no gene names. FALSE = could be annotated."
   ]
  },
  {
   "cell_type": "code",
   "execution_count": 67,
   "id": "d54d3f62",
   "metadata": {},
   "outputs": [],
   "source": [
    "# Now we should remove the genes where the gene names couldn't be found\n",
    "\n",
    "tung <- tung[! is.na(rowData(tung)$SYMBOL),]"
   ]
  },
  {
   "cell_type": "markdown",
   "id": "f1d3b432",
   "metadata": {},
   "source": [
    "The next step is to see if there are any ribosomal proteins using the new gene symbols."
   ]
  },
  {
   "cell_type": "code",
   "execution_count": 74,
   "id": "f3e3f09a",
   "metadata": {},
   "outputs": [
    {
     "data": {
      "text/html": [
       "<style>\n",
       ".dl-inline {width: auto; margin:0; padding: 0}\n",
       ".dl-inline>dt, .dl-inline>dd {float: none; width: auto; display: inline-block}\n",
       ".dl-inline>dt::after {content: \":\\0020\"; padding-right: .5ex}\n",
       ".dl-inline>dt:not(:first-of-type) {padding-left: .5ex}\n",
       "</style><dl class=dl-inline><dt>ENSG00000116251</dt><dd>'RPL22'</dd><dt>ENSG00000142676</dt><dd>'RPL11'</dd><dt>ENSG00000117676</dt><dd>'RPS6KA1'</dd><dt>ENSG00000142937</dt><dd>'RPS8'</dd><dt>ENSG00000122406</dt><dd>'RPL5'</dd><dt>ENSG00000177954</dt><dd>'RPS27'</dd><dt>ENSG00000136643</dt><dd>'RPS6KC1'</dd><dt>ENSG00000138326</dt><dd>'RPS24'</dd><dt>ENSG00000177600</dt><dd>'RPLP2'</dd><dt>ENSG00000166441</dt><dd>'RPL27A'</dd></dl>\n"
      ],
      "text/latex": [
       "\\begin{description*}\n",
       "\\item[ENSG00000116251] 'RPL22'\n",
       "\\item[ENSG00000142676] 'RPL11'\n",
       "\\item[ENSG00000117676] 'RPS6KA1'\n",
       "\\item[ENSG00000142937] 'RPS8'\n",
       "\\item[ENSG00000122406] 'RPL5'\n",
       "\\item[ENSG00000177954] 'RPS27'\n",
       "\\item[ENSG00000136643] 'RPS6KC1'\n",
       "\\item[ENSG00000138326] 'RPS24'\n",
       "\\item[ENSG00000177600] 'RPLP2'\n",
       "\\item[ENSG00000166441] 'RPL27A'\n",
       "\\end{description*}\n"
      ],
      "text/markdown": [
       "ENSG00000116251\n",
       ":   'RPL22'ENSG00000142676\n",
       ":   'RPL11'ENSG00000117676\n",
       ":   'RPS6KA1'ENSG00000142937\n",
       ":   'RPS8'ENSG00000122406\n",
       ":   'RPL5'ENSG00000177954\n",
       ":   'RPS27'ENSG00000136643\n",
       ":   'RPS6KC1'ENSG00000138326\n",
       ":   'RPS24'ENSG00000177600\n",
       ":   'RPLP2'ENSG00000166441\n",
       ":   'RPL27A'\n",
       "\n"
      ],
      "text/plain": [
       "ENSG00000116251 ENSG00000142676 ENSG00000117676 ENSG00000142937 ENSG00000122406 \n",
       "        \"RPL22\"         \"RPL11\"       \"RPS6KA1\"          \"RPS8\"          \"RPL5\" \n",
       "ENSG00000177954 ENSG00000136643 ENSG00000138326 ENSG00000177600 ENSG00000166441 \n",
       "        \"RPS27\"       \"RPS6KC1\"         \"RPS24\"         \"RPLP2\"        \"RPL27A\" "
      ]
     },
     "metadata": {},
     "output_type": "display_data"
    }
   ],
   "source": [
    "# These gene names will begin with RPL or RPS\n",
    "\n",
    "ribo <- grep(\"^RP[LS]\",rowData(tung)$SYMBOL,value = T)\n",
    "ribo[1:10]"
   ]
  },
  {
   "cell_type": "markdown",
   "id": "0c858575",
   "metadata": {},
   "source": [
    "We can also look to mitochondrial proteins."
   ]
  },
  {
   "cell_type": "code",
   "execution_count": 75,
   "id": "9bc9b2f2",
   "metadata": {},
   "outputs": [
    {
     "data": {
      "text/html": [],
      "text/latex": [],
      "text/markdown": [],
      "text/plain": [
       "named character(0)"
      ]
     },
     "metadata": {},
     "output_type": "display_data"
    }
   ],
   "source": [
    "# These gene names will begin with 'MT-'\n",
    "\n",
    "grep(\"^MT-\",rowData(tung)$SYMBOL,value = T)"
   ]
  },
  {
   "cell_type": "markdown",
   "id": "0363bd8b",
   "metadata": {},
   "source": [
    "This returns no values. A quick look at the data shows that the mitochondrial protein ATP8 is present, but does not start with MT-. Most modern annotations do start with MT-. Annotations problems like this are quite common. Another problem is we cannot find the gene locations as this is not supported by `org.Hs.eg.db`. Let's try a different database:"
   ]
  },
  {
   "cell_type": "code",
   "execution_count": 77,
   "id": "9e2b23e5",
   "metadata": {},
   "outputs": [
    {
     "data": {
      "text/plain": [
       "is_mito\n",
       "FALSE  TRUE \n",
       "18920    13 "
      ]
     },
     "metadata": {},
     "output_type": "display_data"
    }
   ],
   "source": [
    "ensdb_genes <- genes(EnsDb.Hsapiens.v86)\n",
    "MT_names <- ensdb_genes[seqnames(ensdb_genes) == \"MT\"]$gene_id\n",
    "is_mito <- rownames(tung) %in% MT_names\n",
    "table(is_mito)"
   ]
  },
  {
   "cell_type": "markdown",
   "id": "714e236c",
   "metadata": {},
   "source": [
    "**Basic QC**\n",
    "\n",
    "The `scater` package allows us to calculate some QC metrics."
   ]
  },
  {
   "cell_type": "code",
   "execution_count": 79,
   "id": "d792d1df",
   "metadata": {},
   "outputs": [
    {
     "data": {
      "text/plain": [
       "DataFrame with 6 rows and 9 columns\n",
       "                     sum  detected subsets_Mito_sum subsets_Mito_detected\n",
       "               <numeric> <numeric>        <numeric>             <numeric>\n",
       "NA19098.r1.A01     61706      8242             4883                    13\n",
       "NA19098.r1.A02     62298      8113             3732                    13\n",
       "NA19098.r1.A03     42211      7188             3089                    13\n",
       "NA19098.r1.A04     52323      7862             3606                    13\n",
       "NA19098.r1.A05     69193      8495             4381                    13\n",
       "NA19098.r1.A06     66341      8535             3235                    13\n",
       "               subsets_Mito_percent altexps_ERCC_sum altexps_ERCC_detected\n",
       "                          <numeric>        <numeric>             <numeric>\n",
       "NA19098.r1.A01              7.91333                0                     0\n",
       "NA19098.r1.A02              5.99056                0                     0\n",
       "NA19098.r1.A03              7.31800                0                     0\n",
       "NA19098.r1.A04              6.89181                0                     0\n",
       "NA19098.r1.A05              6.33157                0                     0\n",
       "NA19098.r1.A06              4.87632                0                     0\n",
       "               altexps_ERCC_percent     total\n",
       "                          <numeric> <numeric>\n",
       "NA19098.r1.A01                    0     61706\n",
       "NA19098.r1.A02                    0     62298\n",
       "NA19098.r1.A03                    0     42211\n",
       "NA19098.r1.A04                    0     52323\n",
       "NA19098.r1.A05                    0     69193\n",
       "NA19098.r1.A06                    0     66341"
      ]
     },
     "metadata": {},
     "output_type": "display_data"
    }
   ],
   "source": [
    "tung_cell <- perCellQCMetrics(tung,subsets=list(Mito=is_mito))\n",
    "\n",
    "head(tung_cell)"
   ]
  },
  {
   "cell_type": "code",
   "execution_count": 81,
   "id": "893074e2",
   "metadata": {},
   "outputs": [
    {
     "data": {
      "text/plain": [
       "DataFrame with 6 rows and 2 columns\n",
       "                     mean  detected\n",
       "                <numeric> <numeric>\n",
       "ENSG00000186092 0.0000000   0.00000\n",
       "ENSG00000187634 0.0300926   2.77778\n",
       "ENSG00000188976 2.6388889  84.25926\n",
       "ENSG00000187961 0.2384259  20.60185\n",
       "ENSG00000187583 0.0115741   1.15741\n",
       "ENSG00000187642 0.0127315   1.27315"
      ]
     },
     "metadata": {},
     "output_type": "display_data"
    }
   ],
   "source": [
    "tung_feature <- perFeatureQCMetrics(tung)\n",
    "\n",
    "head(tung_feature)"
   ]
  },
  {
   "cell_type": "markdown",
   "id": "cb6c52f3",
   "metadata": {},
   "source": [
    "We can then add these to our SCE object."
   ]
  },
  {
   "cell_type": "code",
   "execution_count": 83,
   "id": "efe88092",
   "metadata": {},
   "outputs": [
    {
     "data": {
      "text/plain": [
       "class: SingleCellExperiment \n",
       "dim: 18933 864 \n",
       "metadata(0):\n",
       "assays(3): counts logcounts cpm\n",
       "rownames(18933): ENSG00000186092 ENSG00000187634 ... ENSG00000185894\n",
       "  ENSG00000172288\n",
       "rowData names(5): SYMBOL mean detected mean detected\n",
       "colnames(864): NA19098.r1.A01 NA19098.r1.A02 ... NA19239.r3.H11\n",
       "  NA19239.r3.H12\n",
       "colData names(26): individual replicate ... altexps_ERCC_percent total\n",
       "reducedDimNames(0):\n",
       "mainExpName: NULL\n",
       "altExpNames(1): ERCC"
      ]
     },
     "metadata": {},
     "output_type": "display_data"
    }
   ],
   "source": [
    "tung <- addPerCellQC(tung, subsets=list(Mito=is_mito)) # this will be added to colData\n",
    "tung <- addPerFeatureQC(tung) # this will be added to colRow\n",
    "\n",
    "tung"
   ]
  },
  {
   "cell_type": "markdown",
   "id": "f36ce309",
   "metadata": {},
   "source": [
    "Now we need to identify outliers. A good way of doing this is by plotting the data:"
   ]
  },
  {
   "cell_type": "code",
   "execution_count": 84,
   "id": "ccf56cbe",
   "metadata": {},
   "outputs": [
    {
     "data": {
      "image/png": "[encoded data removed]",
      "text/plain": [
       "Plot with title \"Histogram of tung$total\""
      ]
     },
     "metadata": {
      "image/png": {
       "height": 420,
       "width": 420
      }
     },
     "output_type": "display_data"
    }
   ],
   "source": [
    "hist(\n",
    "    tung$total,\n",
    "    breaks = 100\n",
    ")\n",
    "abline(v = 25000, col = \"red\") # adds cutoff on plot"
   ]
  },
  {
   "cell_type": "code",
   "execution_count": 85,
   "id": "39ee1d9d",
   "metadata": {},
   "outputs": [
    {
     "data": {
      "image/png": "[encoded data removed]",
      "text/plain": [
       "Plot with title \"Histogram of tung_cell$detected\""
      ]
     },
     "metadata": {
      "image/png": {
       "height": 420,
       "width": 420
      }
     },
     "output_type": "display_data"
    }
   ],
   "source": [
    "hist(\n",
    "  tung_cell$detected,\n",
    "  breaks = 100\n",
    ")\n",
    "abline(v = 7000, col = \"red\")"
   ]
  },
  {
   "cell_type": "code",
   "execution_count": null,
   "id": "9afef24f",
   "metadata": {},
   "outputs": [],
   "source": []
  }
 ],
 "metadata": {
  "kernelspec": {
   "display_name": "R",
   "language": "R",
   "name": "ir"
  },
  "language_info": {
   "codemirror_mode": "r",
   "file_extension": ".r",
   "mimetype": "text/x-r-source",
   "name": "R",
   "pygments_lexer": "r",
   "version": "4.1.3"
  }
 },
 "nbformat": 4,
 "nbformat_minor": 5
}
