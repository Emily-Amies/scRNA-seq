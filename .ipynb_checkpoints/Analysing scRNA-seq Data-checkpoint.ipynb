{
 "cells": [
  {
   "cell_type": "markdown",
   "id": "a3755a29",
   "metadata": {},
   "source": [
    "# Analysing scRNA-seq Data\n",
    "\n"
   ]
  },
  {
   "cell_type": "markdown",
   "id": "1290946d",
   "metadata": {},
   "source": [
    "## Benefits\n",
    "\n",
    "- Measure expression in individual cells rather than average expression"
   ]
  },
  {
   "cell_type": "markdown",
   "id": "116c01f5",
   "metadata": {},
   "source": [
    "### Applications\n",
    "\n",
    "**Immunology**\n",
    "- Immunophenotyping (identifying cell types)\n",
    "- Cell activation\n",
    "- Rare cell type discovery - Unlike traditional methods of identifying cells using cell surface markers, measuring many proteins allows rare cells (<1%) to be identified. More recently cells are considered to exist on a continuum, rather than individual cell types [2].\n",
    "\n",
    "**Cancer Biology**\n",
    "- Minimal residual disease - the ability to measure millions of cells per sample can identify minimal residual disease with a limit of give tumour cells [3]\n",
    "\n",
    "**Other**\n",
    "- Identify cell-type specific changes in disease e.g. Alzheimer's disease [4]\n",
    "- Developmental biology\n",
    "\n",
    "Single cell epigenomics - analyse patterns of open chromatin\n",
    "\n",
    "Single cell genomics - de novo germline mutations, somatic mutations and copy number alterations"
   ]
  },
  {
   "cell_type": "markdown",
   "id": "979bda21",
   "metadata": {},
   "source": [
    "## Study Design\n",
    "\n",
    "**Protocols**\n",
    "- **PCR plate-based** - These capture cells through a cell sorter or microfluidics. They are very sesitive as they offer high read depth [14], making them suitable for discriminating subpopulations of cell types with subtle differences [15]. \n",
    "    - Smartseq2 [12]\n",
    "    - CEL-seq [7]\n",
    "    - MARS-seq [13]\n",
    "- **Droplet-based** - These can capture millions of cells, but with low sequencing depths per cell[14], this makes them useful for detecting rare cell types [18]. \n",
    "    - InDrop [16]\n",
    "    - Drop-seq [9]\n",
    "    - Chromium (10x Genomics) [17]\n",
    "- Others\n",
    "    - Quartz-seq [6]\n",
    "    - RamDa-seq [8]\n",
    "    - sci-RNA-seq [10]\n",
    "    - Smart-seq [5]\n",
    "\n",
    "(Epigenomic protocols - CHIP-seq [11] and scATAC-seq)"
   ]
  },
  {
   "cell_type": "markdown",
   "id": "2164e4f8",
   "metadata": {},
   "source": [
    "## Quality Control and Normalisation\n",
    "\n",
    "The quality control and normalisation step is needed to remove noise introduced during the sequencing step. The amount of RNA used in single-cell analyses is much less than in bulk RNA analyses producing noisier data [19, 20]. The low abundance of RNA can also lead to 'dropout' events where the transcript is 'missed' during the reverse-transcription step of sequencing. This means the resulting data are complicated by the presense of 'zero-counts' caused by dropout events [21]. The QC step mitigates this by selecting only high-quality data for analysis. "
   ]
  },
  {
   "cell_type": "code",
   "execution_count": 45,
   "id": "ac57ed19",
   "metadata": {},
   "outputs": [
    {
     "name": "stderr",
     "output_type": "stream",
     "text": [
      "'getOption(\"repos\")' replaces Bioconductor standard repositories, see\n",
      "'?repositories' for details\n",
      "\n",
      "replacement repositories:\n",
      "    CRAN: https://cran.r-project.org\n",
      "\n",
      "\n",
      "Bioconductor version 3.15 (BiocManager 1.30.18), R 4.2.0 (2022-04-22 ucrt)\n",
      "\n",
      "Installing package(s) 'DropletUtils'\n",
      "\n",
      "also installing the dependencies 'rhdf5filters', 'limma', 'locfit', 'R.oo', 'R.methodsS3', 'HDF5Array', 'rhdf5', 'edgeR', 'R.utils', 'Rhdf5lib'\n",
      "\n",
      "\n"
     ]
    },
    {
     "name": "stdout",
     "output_type": "stream",
     "text": [
      "package 'rhdf5filters' successfully unpacked and MD5 sums checked\n",
      "package 'limma' successfully unpacked and MD5 sums checked\n",
      "package 'locfit' successfully unpacked and MD5 sums checked\n",
      "package 'R.oo' successfully unpacked and MD5 sums checked\n",
      "package 'R.methodsS3' successfully unpacked and MD5 sums checked\n",
      "package 'HDF5Array' successfully unpacked and MD5 sums checked\n",
      "package 'rhdf5' successfully unpacked and MD5 sums checked\n",
      "package 'edgeR' successfully unpacked and MD5 sums checked\n",
      "package 'R.utils' successfully unpacked and MD5 sums checked\n",
      "package 'Rhdf5lib' successfully unpacked and MD5 sums checked\n",
      "package 'DropletUtils' successfully unpacked and MD5 sums checked\n",
      "\n",
      "The downloaded binary packages are in\n",
      "\tC:\\Users\\Emily\\AppData\\Local\\Temp\\RtmpcJ32Ev\\downloaded_packages\n"
     ]
    },
    {
     "name": "stderr",
     "output_type": "stream",
     "text": [
      "Old packages: 'BiocParallel', 'brew', 'broom', 'bslib', 'callr', 'cli',\n",
      "  'cluster', 'DelayedMatrixStats', 'desc', 'devtools', 'dplyr', 'dtplyr',\n",
      "  'evaluate', 'farver', 'fontawesome', 'forcats', 'foreign', 'future',\n",
      "  'future.apply', 'gargle', 'generics', 'GenomeInfoDb', 'gert', 'ggridges',\n",
      "  'gh', 'gitcreds', 'globals', 'googlesheets4', 'gtable', 'gtools', 'haven',\n",
      "  'hms', 'htmltools', 'httpuv', 'httr', 'ica', 'igraph', 'IRanges', 'jsonlite',\n",
      "  'knitr', 'leiden', 'lifecycle', 'MASS', 'MatrixGenerics', 'MatrixModels',\n",
      "  'mnormt', 'modelr', 'multcomp', 'nlme', 'nnet', 'openssl', 'parallelly',\n",
      "  'patchwork', 'pillar', 'pkgload', 'processx', 'progressr', 'ps', 'qqconf',\n",
      "  'quantreg', 'rbibutils', 'Rcpp', 'RcppArmadillo', 'RcppHNSW', 'RCurl',\n",
      "  'Rdpack', 'readr', 'readxl', 'reprex', 'reticulate', 'rgl', 'rlang',\n",
      "  'rmarkdown', 'roxygen2', 'rstudioapi', 'rversions', 'rvest', 'sass',\n",
      "  'ScaledMatrix', 'scales', 'scuttle', 'shiny', 'sn', 'stringi', 'stringr',\n",
      "  'survival', 'tibble', 'tidyr', 'tidyverse', 'tinytex', 'vctrs',\n",
      "  'viridisLite', 'vroom', 'xfun', 'zip', 'zoo'\n",
      "\n"
     ]
    }
   ],
   "source": []
  },
  {
   "cell_type": "code",
   "execution_count": 47,
   "id": "3147ac5c",
   "metadata": {},
   "outputs": [],
   "source": [
    "suppressMessages(library(Seurat))\n",
    "suppressMessages(library(SeuratData))\n",
    "suppressMessages(library(patchwork))\n",
    "suppressMessages(library(DropletUtils))\n",
    "#LoadData('ifnb')"
   ]
  },
  {
   "cell_type": "code",
   "execution_count": 50,
   "id": "8a615980",
   "metadata": {},
   "outputs": [
    {
     "data": {
      "text/plain": [
       "5 x 5 sparse Matrix of class \"dgCMatrix\"\n",
       "             AAACATACAACCAC-1 AAACATTGAGCTAC-1 AAACATTGATCAGC-1\n",
       "MIR1302-10                  .                .                .\n",
       "FAM138A                     .                .                .\n",
       "OR4F5                       .                .                .\n",
       "RP11-34P13.7                .                .                .\n",
       "RP11-34P13.8                .                .                .\n",
       "             AAACCGTGCTTCCG-1 AAACCGTGTATGCG-1\n",
       "MIR1302-10                  .                .\n",
       "FAM138A                     .                .\n",
       "OR4F5                       .                .\n",
       "RP11-34P13.7                .                .\n",
       "RP11-34P13.8                .                ."
      ]
     },
     "metadata": {},
     "output_type": "display_data"
    }
   ],
   "source": [
    "pbmc_file_path <- 'pbmc3k_filtered_gene_bc_matrices/filtered_gene_bc_matrices/hg19/'\n",
    "\n",
    "# First, use the Read10X function to read the output of the 10X cellranger pipeline\n",
    "pbmc.data <- Read10X(data.dir = pbmc_file_path)\n",
    "\n",
    "# This returns a unique molecular identified (UMI) count matrix where the columns are individual cells (UMIs) and \n",
    "# rows are genes\n",
    "pbmc.data[c(1:5), c(1:5)]"
   ]
  },
  {
   "cell_type": "markdown",
   "id": "67bb5e6d",
   "metadata": {},
   "source": [
    "### Filter empty droplets\n",
    "\n",
    "Use DropletUtils package to filter empty droplets."
   ]
  },
  {
   "cell_type": "code",
   "execution_count": 57,
   "id": "18ad31b3",
   "metadata": {},
   "outputs": [
    {
     "ename": "ERROR",
     "evalue": "Error in .compute_ambient_stats(mat, totals, lower = lower): no counts available to estimate the ambient profile\n",
     "output_type": "error",
     "traceback": [
      "Error in .compute_ambient_stats(mat, totals, lower = lower): no counts available to estimate the ambient profile\nTraceback:\n",
      "1. emptyDrops(counts(droplet_raw), lower = 100)",
      "2. emptyDrops(counts(droplet_raw), lower = 100)",
      "3. .local(m, ...)",
      "4. testEmptyDrops(m, lower = lower, round = FALSE, test.ambient = test.ambient, \n .     ..., BPPARAM = BPPARAM)",
      "5. .test_empty_drops(m = m, ambient.FUN = ambfun, niters = niters, \n .     test.ambient = test.ambient, ignore = ignore, alpha = alpha, \n .     round = round, BPPARAM = BPPARAM)",
      "6. ambient.FUN(m, totals)",
      "7. .compute_ambient_stats(mat, totals, lower = lower)",
      "8. stop(\"no counts available to estimate the ambient profile\")"
     ]
    }
   ],
   "source": [
    "# Create a SingleCellExperiment from the CellRanger output\n",
    "droplet_raw <- read10xCounts(pbmc_file_path, col.names = TRUE)\n",
    "\n",
    "# Count the number of non-zeros\n",
    "non_zero <- sum(colSums(counts(droplet_raw)) > 0)\n",
    "\n",
    "#C\n",
    "empty <- emptyDrops(counts(droplet_raw), lower = 100)"
   ]
  },
  {
   "cell_type": "markdown",
   "id": "d4cd3584",
   "metadata": {},
   "source": [
    "**References**\n",
    "\n",
    "1.\tTinnevelt GH, Wouters K, Postma GJ, Folcarelli R, Jansen JJ. High-throughput single cell data analysis - A tutorial. Anal Chim Acta [Internet]. 2021;1185(338872):338872. Available from: http://dx.doi.org/10.1016/j.aca.2021.338872\n",
    "2.\tBendall SC, Simonds EF, Qiu P, Amir E-AD, Krutzik PO, Finck R, et al. Single-cell mass cytometry of differential immune and drug responses across a human hematopoietic continuum. Science [Internet]. 2011;332(6030):687–96. Available from: http://dx.doi.org/10.1126/science.1198704\n",
    "3.\tFlores-Montero J, Sanoja-Flores L, Paiva B, Puig N, García-Sánchez O, Böttcher S, et al. Next Generation Flow for highly sensitive and standardized detection of minimal residual disease in multiple myeloma. Leukemia [Internet]. 2017;31(10):2094–103. Available from: http://dx.doi.org/10.1038/leu.2017.29\n",
    "4.\tWang M, Song W-M, Ming C, Wang Q, Zhou X, Xu P, et al. Guidelines for bioinformatics of single-cell sequencing data analysis in Alzheimer’s disease: review, recommendation, implementation and application. Mol Neurodegener [Internet]. 2022;17(1):17. Available from: http://dx.doi.org/10.1186/s13024-022-00517-z\n",
    "5.\tRamsköld D, Luo S, Wang Y-C, Li R, Deng Q, Faridani OR, et al. Full-length mRNA-Seq from single-cell levels of RNA and individual circulating tumor cells. Nat Biotechnol [Internet]. 2012;30(8):777–82. Available from: http://dx.doi.org/10.1038/nbt.2282\n",
    "6.\tAsagawa Y, Nikaido I, Hayashi T, Danno H, Uno KD, Imai T. Quartz- Seq: a highly reproducible and sensitive single-cell RNA sequencing method, reveals non-genetic gene-expression heterogeneity. Genome Biol. 2013;14.\n",
    "7.\tHashimshony T, Wagner F, Sher N, Yanai I. CEL-Seq: single-cell RNA-Seq by multiplexed linear amplification. Cell Rep [Internet]. 2012;2(3):666–73. Available from: http://dx.doi.org/10.1016/j.celrep.2012.08.003\n",
    "8.\tHayashi T, Ozaki H, Sasagawa Y, Umeda M, Danno H, Nikaido I. Singlecell full-length total RNA sequencing uncovers dynamics of recursive splicing and enhancer RNAs. Nat Commun. 2018;9.\n",
    "9.\tMacosko EZ, Basu A, Satija R, Nemesh J, Shekhar K, Goldman M, et al. Highly parallel genome-wide expression profiling of individual cells using nanoliter droplets. Cell [Internet]. 2015;161(5):1202–14. Available from: http://dx.doi.org/10.1016/j.cell.2015.05.002\n",
    "10.\tCao J, Packer JS, Ramani V, Cusanovich DA, Huynh C, Daza R, et al. Comprehensive single-cell transcriptional profiling of a multicellular organism. Science [Internet]. 2017;357(6352):661–7. Available from: http://dx.doi.org/10.1126/science.aam8940\n",
    "11.\tRotem A, Ram O, Shoresh N, Sperling RA, Goren A, Weitz DA, et al. Single-cell ChIP-seq reveals cell subpopulations defined by chromatin state. Nat Biotechnol [Internet]. 2015;33(11):1165–72. Available from: http://dx.doi.org/10.1038/nbt.3383\n",
    "12.\tPicelli S, Faridani OR, Björklund AK, Winberg G, Sagasser S, Sandberg R. Full-length RNA-seq from single cells using Smart-seq2. Nat Protoc [Internet]. 2014;9(1):171–81. Available from: http://dx.doi.org/10.1038/nprot.2014.006\n",
    "13.\tJaitin DA, Kenigsberg E, Keren-Shaul H, Elefant N, Paul F, Zaretsky I, et al. Massively parallel single-cell RNA-seq for marker-free decomposition of tissues into cell types. Science [Internet]. 2014;343(6172):776–9. Available from: http://dx.doi.org/10.1126/science.1247651\n",
    "14.\tAndrews TS, Hemberg M. Identifying cell populations with scRNASeq. Mol Aspects Med [Internet]. 2018;59:114–22. Available from: http://dx.doi.org/10.1016/j.mam.2017.07.002\n",
    "15.\tKolodziejczyk AA, Kim JK, Tsang JCH, Ilicic T, Henriksson J, Natarajan KN, et al. Single cell RNA-sequencing of pluripotent states unlocks modular transcriptional variation. Cell Stem Cell [Internet]. 2015;17(4):471–85. Available from: http://dx.doi.org/10.1016/j.stem.2015.09.011\n",
    "16.\tKlein AM, Mazutis L, Akartuna I, Tallapragada N, Veres A, Li V, et al. Droplet barcoding for single-cell transcriptomics applied to embryonic stem cells. Cell [Internet]. 2015;161(5):1187–201. Available from: http://dx.doi.org/10.1016/j.cell.2015.04.044\n",
    "17.\tZheng GXY, Terry JM, Belgrader P, Ryvkin P, Bent ZW, Wilson R, et al. Massively parallel digital transcriptional profiling of single cells. Nat Commun [Internet]. 2017;8(1):14049. Available from: http://dx.doi.org/10.1038/ncomms14049\n",
    "18.\tCampbell JN, Macosko EZ, Fenselau H, Pers TH, Lyubetskaya A, Tenen D, et al. A molecular census of arcuate hypothalamus and median eminence cell types. Nat Neurosci [Internet]. 2017;20(3):484–96. Available from: http://dx.doi.org/10.1038/nn.4495\n",
    "19.\tBrennecke P, Anders S, Kim JK, Kołodziejczyk AA, Zhang X, Proserpio V, et al. Accounting for technical noise in single-cell RNA-seq experiments. Nat Methods [Internet]. 2013;10(11):1093–5. Available from: http://dx.doi.org/10.1038/nmeth.2645\n",
    "20.\tMarinov GK, Williams BA, McCue K, Schroth GP, Gertz J, Myers RM, et al. From single-cell to cell-pool transcriptomes: stochasticity in gene expression and RNA splicing. Genome Res [Internet]. 2014;24(3):496–510. Available from: http://dx.doi.org/10.1101/gr.161034.113\n",
    "21.\tKharchenko PV, Silberstein L, Scadden DT. Bayesian approach to single- cell differential expression analysis. Nat Methods. 2014;11:740–2.\n"
   ]
  },
  {
   "cell_type": "code",
   "execution_count": null,
   "id": "940e3435",
   "metadata": {},
   "outputs": [],
   "source": []
  }
 ],
 "metadata": {
  "kernelspec": {
   "display_name": "R",
   "language": "R",
   "name": "ir"
  },
  "language_info": {
   "codemirror_mode": "r",
   "file_extension": ".r",
   "mimetype": "text/x-r-source",
   "name": "R",
   "pygments_lexer": "r",
   "version": "4.2.0"
  }
 },
 "nbformat": 4,
 "nbformat_minor": 5
}
