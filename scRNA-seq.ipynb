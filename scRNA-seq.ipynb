{
 "cells": [
  {
   "cell_type": "markdown",
   "id": "03d3dc9a",
   "metadata": {},
   "source": [
    "# scRNA-seq notes\n",
    "\n",
    "10x PBMC data are hosted in https://s3-us-west-2.amazonaws.com/10x.files/samples/cell/pbmc3k/pbmc3k_filtered_gene_bc_matrices.tar.gz\n",
    "\n",
    "53:00 - scRNA-seq packages\n",
    "\n",
    "4.12.3 and 4.12.4 sce and scater"
   ]
  },
  {
   "cell_type": "markdown",
   "id": "5ae34b91",
   "metadata": {},
   "source": [
    "## scRNA-seq\n",
    "\n",
    "Single-cell RNA sequencing (scRNA-seq) is a great tool to allow us to see at cellular resolution that you can't get using bulk RNA-seq which only measures average expression levels across all cells. scRNA-seq can estimate the distribution of expression levels across the cells in your sample making it ideal for studying heterogenous cell populations. It also has the advantage of sampling all transcripts in your sample in an unbiased way, unlike microarrays and RT-qPCR which are limited to a limited set of transcripts. This means that scRNA-seq is great for:\n",
    "- Identifying rare cell types\n",
    "- Studying cell differentiation during development\n",
    "- Building gene atlases\n",
    "- Study changes in cell composition due to disease or environmental factors"
   ]
  },
  {
   "cell_type": "markdown",
   "id": "46dbd2d7",
   "metadata": {},
   "source": [
    "**scRNA-seq protocols**\n",
    "\n",
    "There are many scRNA-seq protocols available and the dataset sizes from these are continually growing:\n",
    "\n",
    "<img src=\"imgs/scRNA-seq_protocols.png\" width = 600>\n",
    "\n",
    "*Summary of some of the more popular scRNA-seq protocols. Chen, Teichman and Meyer, 2018. Abbreviations: cDNA, complementary DNA; DNA pol I, DNA polymerase I; FACS, fluorescence-activated cell sorting; PCR, polymerase chain reaction; RNase H, ribonuclease H; RT, reverse transcription; TSO, template-switching oligonucleotide*\n",
    "\n",
    "Protocols usually follow these steps:\n",
    "1. Cells in a solid sample are dissociated\n",
    "2. (optional: cells can be selected for using markers, fluorescent transgenes or staining dyes)\n",
    "3. They are then isolated and captured. Three methods for this are:\n",
    "    - **Microtitre-plate-based methods** - cells are put in individual wells using things like pipetting, microdissection of fluorescent activated cell sorting (FACS). This method allows you to take pictures of the cells so you can remove damage cells or wells that have more than one cell (known as doublets). FACS also lets you sort cells by things like cell size or intensity of labels and place them in specific wells to give you some more infomation for your downstream analysis. However, this method is work-intestive so is low-throughput.\n",
    "    - **Microfluidic-array-based methods** - these are efficient methods that combines cell capture with library preparation so is high-throughput. However, it only captures around 10% of cells so is not good for rare cell types or small samples. Also, the nanowells used are customised for particular sizes which can introduce some bias when studying tissues.\n",
    "    - **Microgluidic-droplet-based methods** - these are the most popular methods used today and have the highest through-put. Cells are trapped in an nanoliter-sized oil droplet with a bead. This bead has the things needed to make the library and a unique barcode that is attached to all reads from one cell. This means that sequencing can be done on all cells together.\n",
    "4. RNA is extracted\n",
    "5. Then it is reverse-transcribed into cDNA\n",
    "6. cDNA is then amplified (by *in vitro* transcription or PCR)\n",
    "7. This is then built into a sequencing library\n",
    "8. Sequencing using NGS\n",
    "9. An expression matrix can then be used for further analysis\n",
    "\n",
    "<img src=\"imgs/scRNA-seq_workflow.png\" width = 550>\n",
    "\n",
    "*scRNA-seq workflow. Taken from wikipedia https://en.wikipedia.org/wiki/Single_cell_sequencing*\n",
    "\n",
    "The protocol you choose to use will depend on study design and aims. If you want to find a rare cell populatation, you will want to sequence more cells (e.g. 10x Chromium), but if you want to study a particular known cell type, it may be better to sequence fewer cells at a higher resolution (e.g. using SMART-seq2). How many cells needed can be estimated here: https://satijalab.org/howmanycells/ and https://satijalab.org/costpercell/. As different protocols can have variations in accuracy and sensitivity (how much starting RNA is needed), you can also look at studies comparing different protocols: Ziegenhaln et al, 2017; Scensson et al, 2017, Ding et al, 2020."
   ]
  },
  {
   "cell_type": "markdown",
   "id": "3b8e4dd0",
   "metadata": {},
   "source": [
    "**Drawbacks**\n",
    "\n",
    "There are a few problems that come with scRNA-seq:\n",
    "- Low amount of RNA from cells can cause complications:\n",
    "    - **Amplification** is needed which can lead to biases in the data.\n",
    "    - **'Dropouts'** occur when some tramscripts are not captured before amplification. It means some cells this gene will appear to have no expression so data will have many zeros. The low coverage also contributes to this so the resulting matrix is said to be a sparse matrix.\n",
    "- Unlike bulk RNA-seq, it is difficult to have replicates as the libraries represent a single cell, rather than a cell population, so distinguishing technical noise and biological variability is tricky. However, two methods can be used to do this:\n",
    "    - **Spike-ins** - this allows you to normalise the data by adding in synthetic RNA molecules at a known concentration. The most commonly used are a set of 96 spikes from the External RNA Control Consortium (ERCC).\n",
    "    - **UMIs** - these unique molecular identifiers are 4-20 bp barcodes added to the 3' or 5' end of each transcript before amplification which is followed by targeted sequencing of the 3' or 5' end of the transcripts. This allows you to quantify the number of transcripts before amplification.\n",
    "- Batch effects caused by confounding variables when different samples are processed seperately\n",
    "\n",
    "<img src=\"imgs/batch_effects.png\" width = 600>\n",
    "\n",
    "*Visualisation of how batch effects affect data. Hicks et al, 2018*"
   ]
  },
  {
   "cell_type": "markdown",
   "id": "1827b3eb",
   "metadata": {},
   "source": [
    "## Processing raw scRNA-seq data: making an expression matrix"
   ]
  },
  {
   "cell_type": "markdown",
   "id": "bb2465ea",
   "metadata": {},
   "source": [
    "### Quality control\n",
    "\n",
    "The output of scRNA-seq is usually in the form of **FastQ** files which have this format:\n",
    "\n",
    ">\\>ReadID <br>\n",
    ">CDNA READ SEQUENCE\n",
    ">    \n",
    ">+\n",
    ">\n",
    ">SEQUENCING QUALITY SCORES\n",
    "\n",
    "Protocols that use paired-end sequencing may have barcodes on one or both reads. When UMIs are used, one read will have the cell and UMI barcodes, while the other will contain the transcript sequence. \n",
    "\n",
    "*Read quality*\n",
    "\n",
    "The first step after getting the FastQ file is to check the quality of the reads. Before we get this file, reads of low quality will have been removed and the data will have been normalised to account for amplification. Checking read quality can be done using a tool call FastQC which can be used for both bulk and single-cell RNA-seq data. FastQC outputs a report on the read quality using the quality scores in the FastQ file.\n",
    "\n",
    "https://www.bioinformatics.babraham.ac.uk/projects/fastqc/\n",
    "\n",
    "Run FastQC using the following command:\n",
    "\n",
    "`fastqc -o output_directory fastQ_file`\n",
    "\n",
    "This will prodyce a zip and html file for each of the paired-end reads. The report is in the html file. \n",
    "\n",
    "<img src=\"imgs/FastQC.png\" width = 600>\n",
    "\n",
    "*Quality report from FastQC. Quality is poor at the ends as a result of sequencing. Note 2 bases in the middle have poor quality scores and this will need to be acounted for. Taken from https://www.singlecellcourse.org/*"
   ]
  },
  {
   "cell_type": "markdown",
   "id": "99193fbe",
   "metadata": {},
   "source": [
    "*Trimming reads*\n",
    "\n",
    "Next, these low quality bases need to be trimmed off reads. Sequencing also tends to have sequencing adapters, low quality regions at the ends and poly-A sequences, so these can be trimmed too. This can be done using Trim Galore! which is a wrapper for the reads trimming software cutadapt. If UMIs are used, it is not necessary to trim the read with the UMI and cell barcode, just the one with the transcript. \n",
    "\n",
    "<img src=\"imgs/UMIs.png\" width = 300>\n",
    "\n",
    "*Read 1s capture the transcript sequence, while read 2 contains the cell barcode and UMI. Adapted from https://www.singlecellcourse.org/*\n",
    "\n",
    "This can be run using the following command:\n",
    "\n",
    "`trim_galore --nextera -o output_directory FastQ_file`\n",
    "\n",
    "After this is done, another FastQC report should be made to check the read quality again."
   ]
  },
  {
   "cell_type": "markdown",
   "id": "b3926d5f",
   "metadata": {},
   "source": [
    "### Read alignment: mapping cDNA fragments to a reference\n",
    "\n",
    "The next step is to find out which genes our reads correspond to. We do this by mapping them to a reference genome. There are many tools for this. If spike-ins are used, the reference should have the spike-in sequence added first. UMIs/barcodes should also be removed, these can be added to the read name. Also, before aligning, cells should be checked to see if they have enough mappable reads (~60-70% - but it is important to compare with other cells in the sample and remove outliers). Cells with a low proportion of mappable reads could indicate contamination and should be removed. Below are two:\n",
    "\n",
    "**Traditional aligners e.g. STAR, hisat2 and TopHat** - STAR tries to find the longest possible seuence which matches the sequences in the reference genome. It is able to find regions where the read spans more than one exon making it a 'splice aware' aligner. This means it can align genomes rather than transcriptomes and be used to study alternative splicing or chromosomal rearragements. \n",
    "\n",
    "<img src=\"imgs/STAR.png\" width = 300>\n",
    "\n",
    "*STAR is able to match sequences that span a splicing junction. Dobin et al, 2013*\n",
    "\n",
    "You need to provide the reference genome (**FASTA file**) and annotations (GTF) which STAR uses to make a genome index. STAR then aligns the reads to this. Run STAR using this command:\n",
    "\n",
    "`STAR --runThreadN 4 --runMode genomeGenerate --genomeDir output_directory --genomeFastaFiles reference_fasta_file`\n",
    "\n",
    "The output is a **BAM file** which stores the mapped reads. The human-readable version is called a SAM file. It includes information like the mapping quality and the read's position. BAM files can be viewd using IGV. Sometimes sequencing methods provide BAM files only; therefore, these will need to be converted to FastQ files using bedtools/Picard to perform the QC. CRAM files are similar to BAM files but are more compressed and can be converted to BAM files using samtools. \n",
    "\n",
    "**Pseudo-aligners e.g. Kallisto or Salmon** - these map k-mers, rather than reads, to a reference genome. K-mers are sequences of k length from a read. Psuedo-alignment is much faster than alignment and may be more robust to sequencing errors as it would only affect some, but not all, of the k-mers of a read. Pseudo-aligners, unlike traditional aligners, map to a reference transcriptome, rather than a reference genome meaning they map to isoforms rather than genes. Expectation-Maximisation (EM) algorithm is then used to find the optimal distribution of reads that can be mapped to more than one transcripts. It is worth noting that these do not return BAM files, so you cannot visualise the alignment, but they do also perform the read quantification step. Aligning to a transcriptome is difficult because:\n",
    "- scRNA-seq has lower coverage than bulk RNA-seq\n",
    "- Many protocols have a 3' coverage bias, so it is hard to tell which isoform a read came from if they that differ at the 5' end.\n",
    "- Some protocols have short read lengths which also make it challenging to tell which isoform a read came from\n",
    "\n",
    "Kallisto mitigates this by assigning reads that could map to multiple isoforms to an equvilance class so downstream analyses like clusering use this instead.  \n",
    "\n",
    "*Alignment QC*\n",
    "\n",
    "After the reads have been mapped to the genome, the quality of the mapping needs to be evaluated. Tools like RSeQC can be used. As before, look at the whole dataset and remove outliers. It can be done by looking at:\n",
    "- Total number of reads per cell\n",
    "- Per cell, the proportion of:\n",
    "    - Reads mapping to rRNA/tRNA\n",
    "    - Uniquely mapping reads\n",
    "    - Reads mapping over splice juntions\n",
    "    - Unmapped reads\n",
    "- Read depth along the transcripts\n",
    "\n",
    "<img src=\"imgs/gene_coverage.png\" width = 300>\n",
    "\n",
    "*Percentage coverage of a gene body. This shows that many sequencing protocols have a 3' bias. Each line represents a cell. The lines that fall below the others will be removed in the QC step. Taken from https://www.singlecellcourse.org/*"
   ]
  },
  {
   "cell_type": "markdown",
   "id": "ef4f0b72",
   "metadata": {},
   "source": [
    "### Genome annotation: assigning reads to genes\n",
    "\n",
    "Reference genomes are usually in FASTA format. The two most popular sources of assembly files are:\n",
    "- **UCSC** e.g. hg19, hg38, mm10\n",
    "- **GRC** e.g. GRChr37, GRChr38, GRCm38\n",
    "These match e.g. hg38 = CRCh38 but differ in additional contigs and ALT loci.\n",
    "\n",
    "Genome annotation tell you when genes are and things like the exon-intron boundaries. It is usually given in either GTF or GFF3 file formats from places like RefSeq, ENSEMBL and GENCODE. Gene names start with ENSG and transcripts ENST."
   ]
  },
  {
   "cell_type": "markdown",
   "id": "d63ba982",
   "metadata": {},
   "source": [
    "### Demultiplexing: assigning reads to cells\n",
    "\n",
    "Demultiplexing tells you which read belongs to which cell by combining all the reads with the same cell barcode (and then removing the barcodes) and is done differently depending on the protocol used. The tool that can be applied to most protocols is zUMIs which can be used for most UMI-based protocols. A new method called 'cell hashing' (Stoeckius et al, 2018) increases throughput by attaching oligo tags to cells membranes which can be later demultiplexed."
   ]
  },
  {
   "cell_type": "markdown",
   "id": "e65e8907",
   "metadata": {},
   "source": [
    "### Transcript quantification: counting the number of RNA molecules\n",
    "\n",
    "Next, we need to quantify the expression level of each gene for each cell. There are two types of transcript quantification:\n",
    "- **Full-length** - these try to achieve uniform read coverage across the whole transcript. It lets you detect splice variants but can only be done by plate-based protocols and may be subject to 3' bias.\n",
    "- **Tag-based** - these only capture either the 3' or 5' ends of the trancript. This is useful when combined with UMIs which is an improvement on the full-length method as the PCR amplification step can lead to unequal representation of transctipts. The UMI can be used to adjust the transcript count to get the true trancript abundance. Having said this, as the whole transcript is not used, it can be difficult to distinguish between different isoforms. The 10x Chromium protocol uses this method.\n",
    "\n",
    "For non-UMI scRNA-seq data, tools for bulk RNA-seq can be used like HT-seq and FeatureCounts.\n",
    "\n",
    "scRNA-seq data that do include UMIs, there aren't as many unique UMI comninations as molecules per cell, so barcodes will be assigned to more than one transcript. This means that we have to use the mapping location as well as the UMI to identify molecules. You might assume that every unique UMI-transcript pair correlates to all reads from a sinlge RNA molcule, but this is not always true because:\n",
    "1. UMI sequences can change - this can be because of PCR/sequencing errors or base-pair substitotion and is more common in longer UMIs (7-10% of 10bp UMIs). Overestimation of the number of transcripts can happen if this isn't corrected. It can be detected using UMI-tools.\n",
    "2. Mapping errors/multimapping reads - this means that some UMIs are assigned to the wrong gene/transcript, usually because the transcripts are very similar, resulting in an overestimation of transcripts. It can be mitigated by remocing UMIs with few reads that prove their association with a transcript or by removing all multi-mapping reads. Mire recently, a strategy of splitting read counts can be used e.g. if a read alligns to equally well to 3 paralogous genes, then each paralog gets 1/3 count.\n",
    "3. Sometimes the same UMI can attach to different mRNA molcules from the same gene, especially when using short UMIs. This can lead to underestimation of transcripts. A collision probablity has been proposed by Grun et al, 2014.\n",
    "\n",
    "<img src=\"imgs/UMIs2.png\" width = 400>\n",
    "\n",
    "*Description of points 1-3 where UMIs may correspond to the wrong transcript. Bottom: Lack of UMIs results in transcripts from different genes having the same UMI, so mapping is needed. Adapted from https://www.singlecellcourse.org/*\n",
    "\n",
    "*Normalisation*\n",
    "\n",
    "Some downstream analyses use raw read counts, but its mostly accepted that within-sample normalisation should be done first. The most popular method is Trancripts per Million (TPM) which is calulated by `(trancript length) - (cDNA fragment size) + 1`. The results are then scaled linearly to add up to one million. This corrects for these biases:\n",
    "- Each sample is sequenced at a different depth\n",
    "- Longer genes mean more cDNA fragments"
   ]
  },
  {
   "cell_type": "markdown",
   "id": "3e6efa78",
   "metadata": {},
   "source": [
    "### 10x Chromium (Cell Ranger)\n",
    "\n",
    "Cell Ranger is the default tool for processing 10x Genomic Chromium scRNA-seq data. It follows this process:\n",
    "1. Splice-aware alignment of reads to the reference genome using STAR\n",
    "2. Annotation using GTF - marks whether a read is exonic, intronic or intergenic. Also tells you whether the reads align well to the genome.\n",
    "3. Mapping quality adjustments - if a read maps to both an exon and one (or more) non-exons, the exon will be prioritised and is given the maximum mapping quality score.\n",
    "4. Aligns exonic and intronic reads to annotated transcripts. They are also assigned as either sense or antisense. \n",
    "5. Reads that are transcriptomic and are not multimapping are used for UMI counting (intronic reads can be included for experiments using nuclei as many of the RNAs will not have been spliced).~"
   ]
  },
  {
   "cell_type": "markdown",
   "id": "1ada1feb",
   "metadata": {},
   "source": [
    "## scRNA-seq analysis in R using Bioconductor\n",
    "\n",
    "Once the above steps have been completed, it is time to import the data into R. Data usually starts in the form of a matrix of counts (reads or UMIs) of features in samples, where features could be genes, isoforms or exons. A collection of packages, known as Bioconductor, can then be used to analyse your data. These packages have standardardised so packages can be combined within pipelines. One example of this is the standard data object called `SingleCellExperiment` (SCE) which stores information about a scRNA-seq experiment, like genome location etc. \n",
    "\n",
    "<img src=\"imgs/sce.png\" width = 500>\n",
    "\n",
    "*Structure of the SingleCellExperiment object. Information about genes are stored in rows and can be obtained using the `rowData` function, while information about cells are stored in columns and can be accessed using the `colData` function. Taken from https://www.singlecellcourse.org/*\n",
    "\n",
    "More on this can be found here: https://bioconductor.org/books/release/OSCA/\n",
    "\n",
    "\n",
    "In this section, data from Tung et al, 2017 (file named: GSE77288_molecules-raw-single-per-sample.txt.gz) will be used to demonstrate. These data are from an experiment using induced pluripotent stem cells from three individuals. "
   ]
  },
  {
   "cell_type": "code",
   "execution_count": 5,
   "id": "3c36479f",
   "metadata": {},
   "outputs": [
    {
     "ename": "NameError",
     "evalue": "name 'library' is not defined",
     "output_type": "error",
     "traceback": [
      "\u001b[1;31m---------------------------------------------------------------------------\u001b[0m",
      "\u001b[1;31mNameError\u001b[0m                                 Traceback (most recent call last)",
      "\u001b[1;32m~\\AppData\\Local\\Temp/ipykernel_1192/4035052608.py\u001b[0m in \u001b[0;36m<module>\u001b[1;34m\u001b[0m\n\u001b[1;32m----> 1\u001b[1;33m \u001b[0mlibrary\u001b[0m\u001b[1;33m(\u001b[0m\u001b[0mSeurat\u001b[0m\u001b[1;33m)\u001b[0m\u001b[1;33m\u001b[0m\u001b[1;33m\u001b[0m\u001b[0m\n\u001b[0m",
      "\u001b[1;31mNameError\u001b[0m: name 'library' is not defined"
     ]
    }
   ],
   "source": []
  },
  {
   "cell_type": "code",
   "execution_count": null,
   "id": "5e94ba79",
   "metadata": {},
   "outputs": [],
   "source": []
  }
 ],
 "metadata": {
  "kernelspec": {
   "display_name": "Python 3 (ipykernel)",
   "language": "python",
   "name": "python3"
  },
  "language_info": {
   "codemirror_mode": {
    "name": "ipython",
    "version": 3
   },
   "file_extension": ".py",
   "mimetype": "text/x-python",
   "name": "python",
   "nbconvert_exporter": "python",
   "pygments_lexer": "ipython3",
   "version": "3.9.7"
  }
 },
 "nbformat": 4,
 "nbformat_minor": 5
}
